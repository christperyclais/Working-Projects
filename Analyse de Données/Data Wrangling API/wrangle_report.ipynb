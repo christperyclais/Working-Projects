{
 "cells": [
  {
   "cell_type": "markdown",
   "metadata": {},
   "source": [
    "# Traitement des Données"
   ]
  },
  {
   "cell_type": "markdown",
   "metadata": {},
   "source": [
    "- **Rassemblement de données**\n",
    "\n",
    "Tout d'abord, nous avons lu la base de données à partir du fichier ***`CSV`*** avec le package ***`Pandas`*** que nous avons par la suite stocké dans un tableau de données. Ensuite, nous avons utilisé la bibliothèque de requêtes pour lire le fichier de prédictions au format ***`TSV`***. Et enfin pour récupérer les données de l'API ***`tweepy`*** de **Twitter** nous lisons le fichier ***`json`***."
   ]
  },
  {
   "cell_type": "markdown",
   "metadata": {},
   "source": [
    "- **Evaluation de données**\n",
    "\n",
    "Ce processus a été réalisé jeu de données par jeu de données. Dans chacun des jeux de \n",
    "données, il s'agissait notamment d'identifier les problèmes de qualité et d'organisation ou encore de rangement pour ensuite trouver des solutions dans la partie ***Nettoyage***. Dans notre premier jeu de données, celui relatif aux archives ***`Twitter`***, nous avons pu identifier plusieurs failles comme par exemple des erreurs liées à l'extraction de noms de chiens ou de notes. Dans le deuxième ***`DataFrame`***, on a vu qu'il était important de réorganiser les colonnes pour mieux comprendre les informations qu'elles véhiculaient et sur le dernier dataset on a vu qu'il y avait non-conformité des dimensions avec le premier ***`Dataset`***."
   ]
  },
  {
   "cell_type": "markdown",
   "metadata": {},
   "source": [
    "- **Nettoyage de données**\n",
    "\n",
    "Pour nettoyer nos données, nous avons fusionner les deux premiers ensembles de données avant \n",
    "d'appliquer tout changement. Ensuite, dans les deux nouvels ensemble de données, nous avons visualiser nos données de deux manières, visuelle en parcourant quelques lignes de ces données et programmatique avec la fonction ***`info()`*** pour observer si nous avons des valeurs manquantes. La plus part des valeurs manquantes ont été supprimées ainsi que les colonnes comme le statut de retweete, l'identifiant de l'utilisateur, la source de retweet car elles n'ont aucun impact sur notre étude.\n",
    "Après cela, nous avons remplacé les types de données d'horodatage d'***`object`*** à ***`datetime`***\n",
    "Nous avons également créer une colonne appellée ***`stage`*** pour inclure toutes les catégories de chiens durant leur évolution et la même stratégie a été appliquée avec les prédictions des chiens et ensuite créer une colonne ***`rating`*** pour combiner les notes du numérateur comme celles du dénominateur."
   ]
  }
 ],
 "metadata": {
  "kernelspec": {
   "display_name": "Python 3 (ipykernel)",
   "language": "python",
   "name": "python3"
  },
  "language_info": {
   "codemirror_mode": {
    "name": "ipython",
    "version": 3
   },
   "file_extension": ".py",
   "mimetype": "text/x-python",
   "name": "python",
   "nbconvert_exporter": "python",
   "pygments_lexer": "ipython3",
   "version": "3.8.12"
  }
 },
 "nbformat": 4,
 "nbformat_minor": 2
}
