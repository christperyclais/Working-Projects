{
 "cells": [
  {
   "cell_type": "markdown",
   "metadata": {},
   "source": [
    "# Visualisation de Données"
   ]
  },
  {
   "cell_type": "markdown",
   "metadata": {},
   "source": [
    "Après le traitement de nos données, nous avons répondu à une question pour\n",
    "pouvoir expliquer au mieu les données de notre étude. Voici la question et les \n",
    "idées de réponses issues de l'analyse de notre jeu de données.\n",
    "\n",
    "- **Quel stade de chien a le plus de classement ?**\n",
    "A l'aide de notre graphique à barres, nous avons pu identifier quelle catégorie de chien a reçu plus de notes que les autres. Ce qui donne le graphique ci-dessous"
   ]
  },
  {
   "cell_type": "markdown",
   "metadata": {},
   "source": [
    "<img src=\"stage.png\" width=\"700\"/>"
   ]
  },
  {
   "cell_type": "markdown",
   "metadata": {},
   "source": [
    "En analysant la hauteur de nos barreaux, nous avons pu remarqué que les chiens dites ***`pupper`*** prennaient plus d'attention et aussi recevraient beaucoup plus de notes que les autres. En effet, d'après le graphique, nous pouvons observer une grande différence en ce qui concerne le classement de ces chiens ***`pupper`*** dépassant largement toutes les autres catégories.\n",
    "\n",
    "Ensuite les chiens de la catégorie ***`doggo`*** sont deuxième en classement car, ils sont bien notés que ceux des deux autres catégories."
   ]
  }
 ],
 "metadata": {
  "kernelspec": {
   "display_name": "Python 3 (ipykernel)",
   "language": "python",
   "name": "python3"
  },
  "language_info": {
   "codemirror_mode": {
    "name": "ipython",
    "version": 3
   },
   "file_extension": ".py",
   "mimetype": "text/x-python",
   "name": "python",
   "nbconvert_exporter": "python",
   "pygments_lexer": "ipython3",
   "version": "3.8.12"
  }
 },
 "nbformat": 4,
 "nbformat_minor": 2
}
