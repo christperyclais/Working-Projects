{
 "cells": [
  {
   "cell_type": "markdown",
   "id": "b58d78e9",
   "metadata": {},
   "source": [
    "> ***Bienvenu au 1er Projet du parcours Data Analyst Nanodegrees de Udacity en partenariat avec ALX-T !***\n",
    "\n",
    "# Projet : L'enquête sur l'ensemble de données des films afin de répondre à certaines questions Business\n",
    "\n",
    "## Table de Matières\n",
    "<ul>\n",
    "    <li><a href=\"#Intro\">Introduction</a></li>\n",
    "    <li><a href=\"#Préparation\">Préparation de Données</a></li>\n",
    "    <li><a href=\"#AED\">Analyse Exploratoire de Données</a></li>\n",
    "    <li><a href=\"#Conclusions\">Conclusions</a></li>\n",
    "</ul>"
   ]
  },
  {
   "cell_type": "markdown",
   "id": "e9f66b80",
   "metadata": {},
   "source": [
    "<a id=\"Intro\"></a>\n",
    "## Introduction\n",
    "\n",
    "> ***Cet ensemble de données contient des informations sur 10 000 films collectés à partir de `The Movie Database (TMDb)`, y compris les notes des utilisateurs et les revenus.***\n",
    "\n",
    "![image](data:image/jpeg;base64,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)\n",
    "\n",
    "> ***Liens vers les Donnés [clicquez ici](https://www.kaggle.com/datasets/tmdb/tmdb-movie-metadata)***\n",
    ">> **Voici Une liste non exhaustive de quelques questions que nous essayerons de répondre tout au long de ce projet**\n",
    "\n",
    "***Il s'agit notamment de savoir :***\n",
    "<ol>\n",
    "    <li><a href=\"#films mieux notés\">Quels sont les films les mieux notés ?</a></li>\n",
    "    <li><a href=\"#films mieux notés de 2015\">Quels sont les films les mieux notés de 2015 ?</a></li>\n",
    "     <li><a href=\"#films avec plus de revenus\">Combien de films ont plus de revenus ?</a></li>\n",
    "    <li><a href=\"#évolution popularité film\">La populrité des films evoulue t-elle chaque année ?</a></li>\n",
    "    <li><a href=\"#films court métrages\">Quels sont les films court métrages ?</a></li>\n",
    "    <li><a href=\"#année sortie court métrages\">Quelles sont les années avec des films de meilleurs court métrages ?</a></li>\n",
    "    <li><a href=\"#films long métrages\">Quels sont les films de long métrages ?</a></li>\n",
    "    <li><a href=\"#année sortie long métrages\">Quelles sont les années avec des films de meilleurs long métrages ?</a></li>\n",
    "</ol>"
   ]
  },
  {
   "cell_type": "code",
   "execution_count": 1,
   "id": "d0d3c07d",
   "metadata": {},
   "outputs": [],
   "source": [
    "# Importations des librairies nécessaires \n",
    "import matplotlib.pyplot as plt\n",
    "%matplotlib inline\n",
    "import numpy as np\n",
    "import pandas as pd\n",
    "import seaborn as sns"
   ]
  },
  {
   "cell_type": "markdown",
   "id": "d84a637f",
   "metadata": {},
   "source": [
    "<a id=\"Préparation\"></a>\n",
    "## Préparation de Données\n",
    "\n",
    "> **Dans cette partie nous allons préparer nos données afin qu'elles soient prêtes pour une bonne exploration et concises pour répondre aux questions *`Business`***"
   ]
  },
  {
   "cell_type": "markdown",
   "id": "2b27638b",
   "metadata": {},
   "source": [
    "### Caractéristiques Générales"
   ]
  },
  {
   "cell_type": "code",
   "execution_count": 2,
   "id": "f47a316c",
   "metadata": {},
   "outputs": [
    {
     "data": {
      "text/html": [
       "<div>\n",
       "<style scoped>\n",
       "    .dataframe tbody tr th:only-of-type {\n",
       "        vertical-align: middle;\n",
       "    }\n",
       "\n",
       "    .dataframe tbody tr th {\n",
       "        vertical-align: top;\n",
       "    }\n",
       "\n",
       "    .dataframe thead th {\n",
       "        text-align: right;\n",
       "    }\n",
       "</style>\n",
       "<table border=\"1\" class=\"dataframe\">\n",
       "  <thead>\n",
       "    <tr style=\"text-align: right;\">\n",
       "      <th></th>\n",
       "      <th>id</th>\n",
       "      <th>imdb_id</th>\n",
       "      <th>popularity</th>\n",
       "      <th>budget</th>\n",
       "      <th>revenue</th>\n",
       "      <th>original_title</th>\n",
       "      <th>cast</th>\n",
       "      <th>homepage</th>\n",
       "      <th>director</th>\n",
       "      <th>tagline</th>\n",
       "      <th>...</th>\n",
       "      <th>overview</th>\n",
       "      <th>runtime</th>\n",
       "      <th>genres</th>\n",
       "      <th>production_companies</th>\n",
       "      <th>release_date</th>\n",
       "      <th>vote_count</th>\n",
       "      <th>vote_average</th>\n",
       "      <th>release_year</th>\n",
       "      <th>budget_adj</th>\n",
       "      <th>revenue_adj</th>\n",
       "    </tr>\n",
       "  </thead>\n",
       "  <tbody>\n",
       "    <tr>\n",
       "      <th>0</th>\n",
       "      <td>135397</td>\n",
       "      <td>tt0369610</td>\n",
       "      <td>32.985763</td>\n",
       "      <td>150000000</td>\n",
       "      <td>1513528810</td>\n",
       "      <td>Jurassic World</td>\n",
       "      <td>Chris Pratt|Bryce Dallas Howard|Irrfan Khan|Vi...</td>\n",
       "      <td>http://www.jurassicworld.com/</td>\n",
       "      <td>Colin Trevorrow</td>\n",
       "      <td>The park is open.</td>\n",
       "      <td>...</td>\n",
       "      <td>Twenty-two years after the events of Jurassic ...</td>\n",
       "      <td>124</td>\n",
       "      <td>Action|Adventure|Science Fiction|Thriller</td>\n",
       "      <td>Universal Studios|Amblin Entertainment|Legenda...</td>\n",
       "      <td>6/9/15</td>\n",
       "      <td>5562</td>\n",
       "      <td>6.5</td>\n",
       "      <td>2015</td>\n",
       "      <td>1.379999e+08</td>\n",
       "      <td>1.392446e+09</td>\n",
       "    </tr>\n",
       "    <tr>\n",
       "      <th>1</th>\n",
       "      <td>76341</td>\n",
       "      <td>tt1392190</td>\n",
       "      <td>28.419936</td>\n",
       "      <td>150000000</td>\n",
       "      <td>378436354</td>\n",
       "      <td>Mad Max: Fury Road</td>\n",
       "      <td>Tom Hardy|Charlize Theron|Hugh Keays-Byrne|Nic...</td>\n",
       "      <td>http://www.madmaxmovie.com/</td>\n",
       "      <td>George Miller</td>\n",
       "      <td>What a Lovely Day.</td>\n",
       "      <td>...</td>\n",
       "      <td>An apocalyptic story set in the furthest reach...</td>\n",
       "      <td>120</td>\n",
       "      <td>Action|Adventure|Science Fiction|Thriller</td>\n",
       "      <td>Village Roadshow Pictures|Kennedy Miller Produ...</td>\n",
       "      <td>5/13/15</td>\n",
       "      <td>6185</td>\n",
       "      <td>7.1</td>\n",
       "      <td>2015</td>\n",
       "      <td>1.379999e+08</td>\n",
       "      <td>3.481613e+08</td>\n",
       "    </tr>\n",
       "    <tr>\n",
       "      <th>2</th>\n",
       "      <td>262500</td>\n",
       "      <td>tt2908446</td>\n",
       "      <td>13.112507</td>\n",
       "      <td>110000000</td>\n",
       "      <td>295238201</td>\n",
       "      <td>Insurgent</td>\n",
       "      <td>Shailene Woodley|Theo James|Kate Winslet|Ansel...</td>\n",
       "      <td>http://www.thedivergentseries.movie/#insurgent</td>\n",
       "      <td>Robert Schwentke</td>\n",
       "      <td>One Choice Can Destroy You</td>\n",
       "      <td>...</td>\n",
       "      <td>Beatrice Prior must confront her inner demons ...</td>\n",
       "      <td>119</td>\n",
       "      <td>Adventure|Science Fiction|Thriller</td>\n",
       "      <td>Summit Entertainment|Mandeville Films|Red Wago...</td>\n",
       "      <td>3/18/15</td>\n",
       "      <td>2480</td>\n",
       "      <td>6.3</td>\n",
       "      <td>2015</td>\n",
       "      <td>1.012000e+08</td>\n",
       "      <td>2.716190e+08</td>\n",
       "    </tr>\n",
       "    <tr>\n",
       "      <th>3</th>\n",
       "      <td>140607</td>\n",
       "      <td>tt2488496</td>\n",
       "      <td>11.173104</td>\n",
       "      <td>200000000</td>\n",
       "      <td>2068178225</td>\n",
       "      <td>Star Wars: The Force Awakens</td>\n",
       "      <td>Harrison Ford|Mark Hamill|Carrie Fisher|Adam D...</td>\n",
       "      <td>http://www.starwars.com/films/star-wars-episod...</td>\n",
       "      <td>J.J. Abrams</td>\n",
       "      <td>Every generation has a story.</td>\n",
       "      <td>...</td>\n",
       "      <td>Thirty years after defeating the Galactic Empi...</td>\n",
       "      <td>136</td>\n",
       "      <td>Action|Adventure|Science Fiction|Fantasy</td>\n",
       "      <td>Lucasfilm|Truenorth Productions|Bad Robot</td>\n",
       "      <td>12/15/15</td>\n",
       "      <td>5292</td>\n",
       "      <td>7.5</td>\n",
       "      <td>2015</td>\n",
       "      <td>1.839999e+08</td>\n",
       "      <td>1.902723e+09</td>\n",
       "    </tr>\n",
       "    <tr>\n",
       "      <th>4</th>\n",
       "      <td>168259</td>\n",
       "      <td>tt2820852</td>\n",
       "      <td>9.335014</td>\n",
       "      <td>190000000</td>\n",
       "      <td>1506249360</td>\n",
       "      <td>Furious 7</td>\n",
       "      <td>Vin Diesel|Paul Walker|Jason Statham|Michelle ...</td>\n",
       "      <td>http://www.furious7.com/</td>\n",
       "      <td>James Wan</td>\n",
       "      <td>Vengeance Hits Home</td>\n",
       "      <td>...</td>\n",
       "      <td>Deckard Shaw seeks revenge against Dominic Tor...</td>\n",
       "      <td>137</td>\n",
       "      <td>Action|Crime|Thriller</td>\n",
       "      <td>Universal Pictures|Original Film|Media Rights ...</td>\n",
       "      <td>4/1/15</td>\n",
       "      <td>2947</td>\n",
       "      <td>7.3</td>\n",
       "      <td>2015</td>\n",
       "      <td>1.747999e+08</td>\n",
       "      <td>1.385749e+09</td>\n",
       "    </tr>\n",
       "  </tbody>\n",
       "</table>\n",
       "<p>5 rows × 21 columns</p>\n",
       "</div>"
      ],
      "text/plain": [
       "       id    imdb_id  popularity     budget     revenue  \\\n",
       "0  135397  tt0369610   32.985763  150000000  1513528810   \n",
       "1   76341  tt1392190   28.419936  150000000   378436354   \n",
       "2  262500  tt2908446   13.112507  110000000   295238201   \n",
       "3  140607  tt2488496   11.173104  200000000  2068178225   \n",
       "4  168259  tt2820852    9.335014  190000000  1506249360   \n",
       "\n",
       "                 original_title  \\\n",
       "0                Jurassic World   \n",
       "1            Mad Max: Fury Road   \n",
       "2                     Insurgent   \n",
       "3  Star Wars: The Force Awakens   \n",
       "4                     Furious 7   \n",
       "\n",
       "                                                cast  \\\n",
       "0  Chris Pratt|Bryce Dallas Howard|Irrfan Khan|Vi...   \n",
       "1  Tom Hardy|Charlize Theron|Hugh Keays-Byrne|Nic...   \n",
       "2  Shailene Woodley|Theo James|Kate Winslet|Ansel...   \n",
       "3  Harrison Ford|Mark Hamill|Carrie Fisher|Adam D...   \n",
       "4  Vin Diesel|Paul Walker|Jason Statham|Michelle ...   \n",
       "\n",
       "                                            homepage          director  \\\n",
       "0                      http://www.jurassicworld.com/   Colin Trevorrow   \n",
       "1                        http://www.madmaxmovie.com/     George Miller   \n",
       "2     http://www.thedivergentseries.movie/#insurgent  Robert Schwentke   \n",
       "3  http://www.starwars.com/films/star-wars-episod...       J.J. Abrams   \n",
       "4                           http://www.furious7.com/         James Wan   \n",
       "\n",
       "                         tagline  ...  \\\n",
       "0              The park is open.  ...   \n",
       "1             What a Lovely Day.  ...   \n",
       "2     One Choice Can Destroy You  ...   \n",
       "3  Every generation has a story.  ...   \n",
       "4            Vengeance Hits Home  ...   \n",
       "\n",
       "                                            overview runtime  \\\n",
       "0  Twenty-two years after the events of Jurassic ...     124   \n",
       "1  An apocalyptic story set in the furthest reach...     120   \n",
       "2  Beatrice Prior must confront her inner demons ...     119   \n",
       "3  Thirty years after defeating the Galactic Empi...     136   \n",
       "4  Deckard Shaw seeks revenge against Dominic Tor...     137   \n",
       "\n",
       "                                      genres  \\\n",
       "0  Action|Adventure|Science Fiction|Thriller   \n",
       "1  Action|Adventure|Science Fiction|Thriller   \n",
       "2         Adventure|Science Fiction|Thriller   \n",
       "3   Action|Adventure|Science Fiction|Fantasy   \n",
       "4                      Action|Crime|Thriller   \n",
       "\n",
       "                                production_companies release_date vote_count  \\\n",
       "0  Universal Studios|Amblin Entertainment|Legenda...       6/9/15       5562   \n",
       "1  Village Roadshow Pictures|Kennedy Miller Produ...      5/13/15       6185   \n",
       "2  Summit Entertainment|Mandeville Films|Red Wago...      3/18/15       2480   \n",
       "3          Lucasfilm|Truenorth Productions|Bad Robot     12/15/15       5292   \n",
       "4  Universal Pictures|Original Film|Media Rights ...       4/1/15       2947   \n",
       "\n",
       "   vote_average  release_year    budget_adj   revenue_adj  \n",
       "0           6.5          2015  1.379999e+08  1.392446e+09  \n",
       "1           7.1          2015  1.379999e+08  3.481613e+08  \n",
       "2           6.3          2015  1.012000e+08  2.716190e+08  \n",
       "3           7.5          2015  1.839999e+08  1.902723e+09  \n",
       "4           7.3          2015  1.747999e+08  1.385749e+09  \n",
       "\n",
       "[5 rows x 21 columns]"
      ]
     },
     "execution_count": 2,
     "metadata": {},
     "output_type": "execute_result"
    }
   ],
   "source": [
    "# Chargment des données\n",
    "movie_df = pd.read_csv(\"tmdb-movies.csv\")\n",
    "# Quelques lignes de notre ensemble de données\n",
    "movie_df.head()"
   ]
  },
  {
   "cell_type": "code",
   "execution_count": 3,
   "id": "e34a3f7e",
   "metadata": {},
   "outputs": [
    {
     "data": {
      "text/plain": [
       "(10866, 21)"
      ]
     },
     "execution_count": 3,
     "metadata": {},
     "output_type": "execute_result"
    }
   ],
   "source": [
    "# Taille de nos données\n",
    "movie_df.shape"
   ]
  },
  {
   "cell_type": "code",
   "execution_count": 4,
   "id": "f929c830",
   "metadata": {},
   "outputs": [
    {
     "data": {
      "text/plain": [
       "id                        int64\n",
       "imdb_id                  object\n",
       "popularity              float64\n",
       "budget                    int64\n",
       "revenue                   int64\n",
       "original_title           object\n",
       "cast                     object\n",
       "homepage                 object\n",
       "director                 object\n",
       "tagline                  object\n",
       "keywords                 object\n",
       "overview                 object\n",
       "runtime                   int64\n",
       "genres                   object\n",
       "production_companies     object\n",
       "release_date             object\n",
       "vote_count                int64\n",
       "vote_average            float64\n",
       "release_year              int64\n",
       "budget_adj              float64\n",
       "revenue_adj             float64\n",
       "dtype: object"
      ]
     },
     "execution_count": 4,
     "metadata": {},
     "output_type": "execute_result"
    }
   ],
   "source": [
    "# Quels types de données avons-nous ?\n",
    "movie_df.dtypes"
   ]
  },
  {
   "cell_type": "code",
   "execution_count": 5,
   "id": "fcced687",
   "metadata": {},
   "outputs": [
    {
     "name": "stdout",
     "output_type": "stream",
     "text": [
      "<class 'pandas.core.frame.DataFrame'>\n",
      "RangeIndex: 10866 entries, 0 to 10865\n",
      "Data columns (total 21 columns):\n",
      " #   Column                Non-Null Count  Dtype  \n",
      "---  ------                --------------  -----  \n",
      " 0   id                    10866 non-null  int64  \n",
      " 1   imdb_id               10856 non-null  object \n",
      " 2   popularity            10866 non-null  float64\n",
      " 3   budget                10866 non-null  int64  \n",
      " 4   revenue               10866 non-null  int64  \n",
      " 5   original_title        10866 non-null  object \n",
      " 6   cast                  10790 non-null  object \n",
      " 7   homepage              2936 non-null   object \n",
      " 8   director              10822 non-null  object \n",
      " 9   tagline               8042 non-null   object \n",
      " 10  keywords              9373 non-null   object \n",
      " 11  overview              10862 non-null  object \n",
      " 12  runtime               10866 non-null  int64  \n",
      " 13  genres                10843 non-null  object \n",
      " 14  production_companies  9836 non-null   object \n",
      " 15  release_date          10866 non-null  object \n",
      " 16  vote_count            10866 non-null  int64  \n",
      " 17  vote_average          10866 non-null  float64\n",
      " 18  release_year          10866 non-null  int64  \n",
      " 19  budget_adj            10866 non-null  float64\n",
      " 20  revenue_adj           10866 non-null  float64\n",
      "dtypes: float64(4), int64(6), object(11)\n",
      "memory usage: 1.7+ MB\n"
     ]
    }
   ],
   "source": [
    "# Quelques informations de base sur nos données\n",
    "movie_df.info()"
   ]
  },
  {
   "cell_type": "code",
   "execution_count": 6,
   "id": "5fb98a5e",
   "metadata": {},
   "outputs": [
    {
     "data": {
      "text/plain": [
       "id                      10865\n",
       "imdb_id                 10855\n",
       "popularity              10814\n",
       "budget                    557\n",
       "revenue                  4702\n",
       "original_title          10571\n",
       "cast                    10719\n",
       "homepage                 2896\n",
       "director                 5067\n",
       "tagline                  7997\n",
       "keywords                 8804\n",
       "overview                10847\n",
       "runtime                   247\n",
       "genres                   2039\n",
       "production_companies     7445\n",
       "release_date             5909\n",
       "vote_count               1289\n",
       "vote_average               72\n",
       "release_year               56\n",
       "budget_adj               2614\n",
       "revenue_adj              4840\n",
       "dtype: int64"
      ]
     },
     "execution_count": 6,
     "metadata": {},
     "output_type": "execute_result"
    }
   ],
   "source": [
    "# Le nombre de valeurs uniques dans chaque colonne\n",
    "movie_df.nunique()"
   ]
  },
  {
   "cell_type": "code",
   "execution_count": 7,
   "id": "451f20de",
   "metadata": {},
   "outputs": [
    {
     "data": {
      "text/plain": [
       "Index(['id', 'imdb_id', 'popularity', 'budget', 'revenue', 'original_title',\n",
       "       'cast', 'homepage', 'director', 'tagline', 'keywords', 'overview',\n",
       "       'runtime', 'genres', 'production_companies', 'release_date',\n",
       "       'vote_count', 'vote_average', 'release_year', 'budget_adj',\n",
       "       'revenue_adj'],\n",
       "      dtype='object')"
      ]
     },
     "execution_count": 7,
     "metadata": {},
     "output_type": "execute_result"
    }
   ],
   "source": [
    "# Afficher les colonnes\n",
    "movie_df.columns"
   ]
  },
  {
   "cell_type": "markdown",
   "id": "b7f6a452",
   "metadata": {},
   "source": [
    "#### Voici la signification de nos différentes colonnes\n",
    "****************************************************************\n",
    "**'id'                     : `identifiant film`**            \n",
    "**'imdb_id'                : `identifiant base de données`**  \n",
    "**'popularity'             : `côte de popularité`**             \n",
    "**'budget'                 : `budget du film`**                 \n",
    "**'revenue'                : `revenu du film`**                 \n",
    "**'original_title'         : `titre original`**                 \n",
    "**'cast'                   : `acteur choisis`**                \n",
    "**'homepage'               : `site`**                          \n",
    "**'director'               : `directeur de film`**              \n",
    "**'tagline'                : `mots clé`**                      \n",
    "**'keywords'               : `slogan utilisé`**                 \n",
    "**'overview'               : `resumé du film`**                 \n",
    "**'runtime'                : `durée du film`**                  \n",
    "**'genres'                 : `type de film`**                   \n",
    "**'production_companies'   : `compagnie de production`**        \n",
    "**'release_date'           : `date de sortie`**                 \n",
    "**'vote_count'             : `nombre de note`**                 \n",
    "**'vote_average'           : `moyenne de note`**                \n",
    "**'release_year'           : `année de sortie`**                \n",
    "**'budget_adj'             : `budget fu film associé`**         \n",
    "**'revenue_adj'            : `revenu du film associcé`**        \n",
    "****************************************************************"
   ]
  },
  {
   "cell_type": "markdown",
   "id": "b580ebf3",
   "metadata": {},
   "source": [
    "- Colonnes non utiles à l'analyse\n",
    "- Colonnes en Anglais\n",
    "- Valeurs manquantes\n",
    "- Incohérence des colonnes"
   ]
  },
  {
   "cell_type": "markdown",
   "id": "4b8ca1bf",
   "metadata": {},
   "source": [
    "### Netoyage de données"
   ]
  },
  {
   "cell_type": "code",
   "execution_count": 8,
   "id": "90f13cdc",
   "metadata": {},
   "outputs": [
    {
     "data": {
      "text/html": [
       "<div>\n",
       "<style scoped>\n",
       "    .dataframe tbody tr th:only-of-type {\n",
       "        vertical-align: middle;\n",
       "    }\n",
       "\n",
       "    .dataframe tbody tr th {\n",
       "        vertical-align: top;\n",
       "    }\n",
       "\n",
       "    .dataframe thead th {\n",
       "        text-align: right;\n",
       "    }\n",
       "</style>\n",
       "<table border=\"1\" class=\"dataframe\">\n",
       "  <thead>\n",
       "    <tr style=\"text-align: right;\">\n",
       "      <th></th>\n",
       "      <th>id</th>\n",
       "      <th>imdb_id</th>\n",
       "      <th>popularity</th>\n",
       "      <th>budget</th>\n",
       "      <th>revenue</th>\n",
       "      <th>original_title</th>\n",
       "      <th>cast</th>\n",
       "      <th>homepage</th>\n",
       "      <th>director</th>\n",
       "      <th>tagline</th>\n",
       "      <th>...</th>\n",
       "      <th>overview</th>\n",
       "      <th>runtime</th>\n",
       "      <th>genres</th>\n",
       "      <th>production_companies</th>\n",
       "      <th>release_date</th>\n",
       "      <th>vote_count</th>\n",
       "      <th>vote_average</th>\n",
       "      <th>release_year</th>\n",
       "      <th>budget_adj</th>\n",
       "      <th>revenue_adj</th>\n",
       "    </tr>\n",
       "  </thead>\n",
       "  <tbody>\n",
       "    <tr>\n",
       "      <th>0</th>\n",
       "      <td>135397</td>\n",
       "      <td>tt0369610</td>\n",
       "      <td>32.985763</td>\n",
       "      <td>150000000</td>\n",
       "      <td>1513528810</td>\n",
       "      <td>Jurassic World</td>\n",
       "      <td>Chris Pratt|Bryce Dallas Howard|Irrfan Khan|Vi...</td>\n",
       "      <td>http://www.jurassicworld.com/</td>\n",
       "      <td>Colin Trevorrow</td>\n",
       "      <td>The park is open.</td>\n",
       "      <td>...</td>\n",
       "      <td>Twenty-two years after the events of Jurassic ...</td>\n",
       "      <td>124</td>\n",
       "      <td>Action|Adventure|Science Fiction|Thriller</td>\n",
       "      <td>Universal Studios|Amblin Entertainment|Legenda...</td>\n",
       "      <td>6/9/15</td>\n",
       "      <td>5562</td>\n",
       "      <td>6.5</td>\n",
       "      <td>2015</td>\n",
       "      <td>1.379999e+08</td>\n",
       "      <td>1.392446e+09</td>\n",
       "    </tr>\n",
       "    <tr>\n",
       "      <th>1</th>\n",
       "      <td>76341</td>\n",
       "      <td>tt1392190</td>\n",
       "      <td>28.419936</td>\n",
       "      <td>150000000</td>\n",
       "      <td>378436354</td>\n",
       "      <td>Mad Max: Fury Road</td>\n",
       "      <td>Tom Hardy|Charlize Theron|Hugh Keays-Byrne|Nic...</td>\n",
       "      <td>http://www.madmaxmovie.com/</td>\n",
       "      <td>George Miller</td>\n",
       "      <td>What a Lovely Day.</td>\n",
       "      <td>...</td>\n",
       "      <td>An apocalyptic story set in the furthest reach...</td>\n",
       "      <td>120</td>\n",
       "      <td>Action|Adventure|Science Fiction|Thriller</td>\n",
       "      <td>Village Roadshow Pictures|Kennedy Miller Produ...</td>\n",
       "      <td>5/13/15</td>\n",
       "      <td>6185</td>\n",
       "      <td>7.1</td>\n",
       "      <td>2015</td>\n",
       "      <td>1.379999e+08</td>\n",
       "      <td>3.481613e+08</td>\n",
       "    </tr>\n",
       "    <tr>\n",
       "      <th>2</th>\n",
       "      <td>262500</td>\n",
       "      <td>tt2908446</td>\n",
       "      <td>13.112507</td>\n",
       "      <td>110000000</td>\n",
       "      <td>295238201</td>\n",
       "      <td>Insurgent</td>\n",
       "      <td>Shailene Woodley|Theo James|Kate Winslet|Ansel...</td>\n",
       "      <td>http://www.thedivergentseries.movie/#insurgent</td>\n",
       "      <td>Robert Schwentke</td>\n",
       "      <td>One Choice Can Destroy You</td>\n",
       "      <td>...</td>\n",
       "      <td>Beatrice Prior must confront her inner demons ...</td>\n",
       "      <td>119</td>\n",
       "      <td>Adventure|Science Fiction|Thriller</td>\n",
       "      <td>Summit Entertainment|Mandeville Films|Red Wago...</td>\n",
       "      <td>3/18/15</td>\n",
       "      <td>2480</td>\n",
       "      <td>6.3</td>\n",
       "      <td>2015</td>\n",
       "      <td>1.012000e+08</td>\n",
       "      <td>2.716190e+08</td>\n",
       "    </tr>\n",
       "  </tbody>\n",
       "</table>\n",
       "<p>3 rows × 21 columns</p>\n",
       "</div>"
      ],
      "text/plain": [
       "       id    imdb_id  popularity     budget     revenue      original_title  \\\n",
       "0  135397  tt0369610   32.985763  150000000  1513528810      Jurassic World   \n",
       "1   76341  tt1392190   28.419936  150000000   378436354  Mad Max: Fury Road   \n",
       "2  262500  tt2908446   13.112507  110000000   295238201           Insurgent   \n",
       "\n",
       "                                                cast  \\\n",
       "0  Chris Pratt|Bryce Dallas Howard|Irrfan Khan|Vi...   \n",
       "1  Tom Hardy|Charlize Theron|Hugh Keays-Byrne|Nic...   \n",
       "2  Shailene Woodley|Theo James|Kate Winslet|Ansel...   \n",
       "\n",
       "                                         homepage          director  \\\n",
       "0                   http://www.jurassicworld.com/   Colin Trevorrow   \n",
       "1                     http://www.madmaxmovie.com/     George Miller   \n",
       "2  http://www.thedivergentseries.movie/#insurgent  Robert Schwentke   \n",
       "\n",
       "                      tagline  ...  \\\n",
       "0           The park is open.  ...   \n",
       "1          What a Lovely Day.  ...   \n",
       "2  One Choice Can Destroy You  ...   \n",
       "\n",
       "                                            overview runtime  \\\n",
       "0  Twenty-two years after the events of Jurassic ...     124   \n",
       "1  An apocalyptic story set in the furthest reach...     120   \n",
       "2  Beatrice Prior must confront her inner demons ...     119   \n",
       "\n",
       "                                      genres  \\\n",
       "0  Action|Adventure|Science Fiction|Thriller   \n",
       "1  Action|Adventure|Science Fiction|Thriller   \n",
       "2         Adventure|Science Fiction|Thriller   \n",
       "\n",
       "                                production_companies release_date vote_count  \\\n",
       "0  Universal Studios|Amblin Entertainment|Legenda...       6/9/15       5562   \n",
       "1  Village Roadshow Pictures|Kennedy Miller Produ...      5/13/15       6185   \n",
       "2  Summit Entertainment|Mandeville Films|Red Wago...      3/18/15       2480   \n",
       "\n",
       "   vote_average  release_year    budget_adj   revenue_adj  \n",
       "0           6.5          2015  1.379999e+08  1.392446e+09  \n",
       "1           7.1          2015  1.379999e+08  3.481613e+08  \n",
       "2           6.3          2015  1.012000e+08  2.716190e+08  \n",
       "\n",
       "[3 rows x 21 columns]"
      ]
     },
     "execution_count": 8,
     "metadata": {},
     "output_type": "execute_result"
    }
   ],
   "source": [
    "# Les 3 premières lignes de nos données\n",
    "movie_df.head(3)"
   ]
  },
  {
   "cell_type": "code",
   "execution_count": 9,
   "id": "03ff9730",
   "metadata": {},
   "outputs": [
    {
     "name": "stdout",
     "output_type": "stream",
     "text": [
      "<class 'pandas.core.frame.DataFrame'>\n",
      "RangeIndex: 10866 entries, 0 to 10865\n",
      "Data columns (total 13 columns):\n",
      " #   Column                Non-Null Count  Dtype  \n",
      "---  ------                --------------  -----  \n",
      " 0   id                    10866 non-null  int64  \n",
      " 1   popularity            10866 non-null  float64\n",
      " 2   budget                10866 non-null  int64  \n",
      " 3   revenue               10866 non-null  int64  \n",
      " 4   original_title        10866 non-null  object \n",
      " 5   cast                  10790 non-null  object \n",
      " 6   director              10822 non-null  object \n",
      " 7   runtime               10866 non-null  int64  \n",
      " 8   genres                10843 non-null  object \n",
      " 9   production_companies  9836 non-null   object \n",
      " 10  vote_count            10866 non-null  int64  \n",
      " 11  vote_average          10866 non-null  float64\n",
      " 12  release_year          10866 non-null  int64  \n",
      "dtypes: float64(2), int64(6), object(5)\n",
      "memory usage: 1.1+ MB\n"
     ]
    }
   ],
   "source": [
    "# Supprimer les colonnes jugées non utiles pour le reste de l'analyse\n",
    "movie_df.drop([\"imdb_id\",\"homepage\", \"tagline\", \"keywords\", \"overview\", \"release_date\",\n",
    "               \"budget_adj\", \"revenue_adj\"], axis=1, inplace=True)\n",
    "\n",
    "# Vérification des changements apportés\n",
    "movie_df.info()"
   ]
  },
  {
   "cell_type": "code",
   "execution_count": 10,
   "id": "b8672ece",
   "metadata": {},
   "outputs": [
    {
     "data": {
      "text/html": [
       "<div>\n",
       "<style scoped>\n",
       "    .dataframe tbody tr th:only-of-type {\n",
       "        vertical-align: middle;\n",
       "    }\n",
       "\n",
       "    .dataframe tbody tr th {\n",
       "        vertical-align: top;\n",
       "    }\n",
       "\n",
       "    .dataframe thead th {\n",
       "        text-align: right;\n",
       "    }\n",
       "</style>\n",
       "<table border=\"1\" class=\"dataframe\">\n",
       "  <thead>\n",
       "    <tr style=\"text-align: right;\">\n",
       "      <th></th>\n",
       "      <th>id</th>\n",
       "      <th>popularity</th>\n",
       "      <th>budget</th>\n",
       "      <th>revenue</th>\n",
       "      <th>original_title</th>\n",
       "      <th>cast</th>\n",
       "      <th>director</th>\n",
       "      <th>runtime</th>\n",
       "      <th>genres</th>\n",
       "      <th>production_companies</th>\n",
       "      <th>vote_count</th>\n",
       "      <th>vote_average</th>\n",
       "      <th>release_year</th>\n",
       "    </tr>\n",
       "  </thead>\n",
       "  <tbody>\n",
       "    <tr>\n",
       "      <th>0</th>\n",
       "      <td>135397</td>\n",
       "      <td>32.985763</td>\n",
       "      <td>150000000</td>\n",
       "      <td>1513528810</td>\n",
       "      <td>Jurassic World</td>\n",
       "      <td>Chris Pratt|Bryce Dallas Howard|Irrfan Khan|Vi...</td>\n",
       "      <td>Colin Trevorrow</td>\n",
       "      <td>124</td>\n",
       "      <td>Action|Adventure|Science Fiction|Thriller</td>\n",
       "      <td>Universal Studios|Amblin Entertainment|Legenda...</td>\n",
       "      <td>5562</td>\n",
       "      <td>6.5</td>\n",
       "      <td>2015</td>\n",
       "    </tr>\n",
       "    <tr>\n",
       "      <th>1</th>\n",
       "      <td>76341</td>\n",
       "      <td>28.419936</td>\n",
       "      <td>150000000</td>\n",
       "      <td>378436354</td>\n",
       "      <td>Mad Max: Fury Road</td>\n",
       "      <td>Tom Hardy|Charlize Theron|Hugh Keays-Byrne|Nic...</td>\n",
       "      <td>George Miller</td>\n",
       "      <td>120</td>\n",
       "      <td>Action|Adventure|Science Fiction|Thriller</td>\n",
       "      <td>Village Roadshow Pictures|Kennedy Miller Produ...</td>\n",
       "      <td>6185</td>\n",
       "      <td>7.1</td>\n",
       "      <td>2015</td>\n",
       "    </tr>\n",
       "    <tr>\n",
       "      <th>2</th>\n",
       "      <td>262500</td>\n",
       "      <td>13.112507</td>\n",
       "      <td>110000000</td>\n",
       "      <td>295238201</td>\n",
       "      <td>Insurgent</td>\n",
       "      <td>Shailene Woodley|Theo James|Kate Winslet|Ansel...</td>\n",
       "      <td>Robert Schwentke</td>\n",
       "      <td>119</td>\n",
       "      <td>Adventure|Science Fiction|Thriller</td>\n",
       "      <td>Summit Entertainment|Mandeville Films|Red Wago...</td>\n",
       "      <td>2480</td>\n",
       "      <td>6.3</td>\n",
       "      <td>2015</td>\n",
       "    </tr>\n",
       "  </tbody>\n",
       "</table>\n",
       "</div>"
      ],
      "text/plain": [
       "       id  popularity     budget     revenue      original_title  \\\n",
       "0  135397   32.985763  150000000  1513528810      Jurassic World   \n",
       "1   76341   28.419936  150000000   378436354  Mad Max: Fury Road   \n",
       "2  262500   13.112507  110000000   295238201           Insurgent   \n",
       "\n",
       "                                                cast          director  \\\n",
       "0  Chris Pratt|Bryce Dallas Howard|Irrfan Khan|Vi...   Colin Trevorrow   \n",
       "1  Tom Hardy|Charlize Theron|Hugh Keays-Byrne|Nic...     George Miller   \n",
       "2  Shailene Woodley|Theo James|Kate Winslet|Ansel...  Robert Schwentke   \n",
       "\n",
       "   runtime                                     genres  \\\n",
       "0      124  Action|Adventure|Science Fiction|Thriller   \n",
       "1      120  Action|Adventure|Science Fiction|Thriller   \n",
       "2      119         Adventure|Science Fiction|Thriller   \n",
       "\n",
       "                                production_companies  vote_count  \\\n",
       "0  Universal Studios|Amblin Entertainment|Legenda...        5562   \n",
       "1  Village Roadshow Pictures|Kennedy Miller Produ...        6185   \n",
       "2  Summit Entertainment|Mandeville Films|Red Wago...        2480   \n",
       "\n",
       "   vote_average  release_year  \n",
       "0           6.5          2015  \n",
       "1           7.1          2015  \n",
       "2           6.3          2015  "
      ]
     },
     "execution_count": 10,
     "metadata": {},
     "output_type": "execute_result"
    }
   ],
   "source": [
    "# Afficher les 3 premières lignes\n",
    "movie_df.head(3)"
   ]
  },
  {
   "cell_type": "code",
   "execution_count": 11,
   "id": "42a1d44a",
   "metadata": {},
   "outputs": [],
   "source": [
    "# Renomer les colonnes en Français\n",
    "movie_df.rename(columns={\"popularity\":\"popularite\", \"revenue\":\"revenu\", \"original_title\":\"titre\", \n",
    "                         \"cast\":\"acteur\", \"director\":\"directeur\", \"runtime\":\"duree\", \n",
    "                         \"production_companies\":\"compagnie_production\", \n",
    "                         \"vote_count\":\"notes\", \"vote_average\":\"note_moyenne\", \n",
    "                         \"release_year\":\"annee_sortie\"}, inplace=True)"
   ]
  },
  {
   "cell_type": "code",
   "execution_count": 12,
   "id": "7844fedc",
   "metadata": {},
   "outputs": [
    {
     "data": {
      "text/plain": [
       "(10866, 13)"
      ]
     },
     "execution_count": 12,
     "metadata": {},
     "output_type": "execute_result"
    }
   ],
   "source": [
    "# La nouvelle taille de notre ensemble de données \n",
    "movie_df.shape"
   ]
  },
  {
   "cell_type": "code",
   "execution_count": 13,
   "id": "8538077d",
   "metadata": {},
   "outputs": [
    {
     "data": {
      "text/plain": [
       "1"
      ]
     },
     "execution_count": 13,
     "metadata": {},
     "output_type": "execute_result"
    }
   ],
   "source": [
    "# Avons-nous des doublons dans nos colonnes ?\n",
    "# Combien sont t-ils ?\n",
    "movie_df.duplicated().sum()"
   ]
  },
  {
   "cell_type": "code",
   "execution_count": 14,
   "id": "6f854f07",
   "metadata": {},
   "outputs": [],
   "source": [
    "\"\"\"\n",
    "L'argument 'inplace =True' nous permet d'appliquer directement\n",
    "les modifications à notre ensemble de données sans pour autant\n",
    "procéder par assignation de variable\n",
    "\"\"\"\n",
    "\n",
    "# Nous allons supprimer cette valeur qui en double\n",
    "# Dans notre cas nous en avons qu'un seul et unique doublon dans nos données\n",
    "movie_df.drop_duplicates(inplace=True)"
   ]
  },
  {
   "cell_type": "code",
   "execution_count": 15,
   "id": "337364d9",
   "metadata": {},
   "outputs": [
    {
     "data": {
      "text/plain": [
       "0"
      ]
     },
     "execution_count": 15,
     "metadata": {},
     "output_type": "execute_result"
    }
   ],
   "source": [
    "# Cette valeur en double est réelement supprimée ?\n",
    "# Vérifions cela...\n",
    "movie_df.duplicated().sum()"
   ]
  },
  {
   "cell_type": "markdown",
   "id": "0c0bec30",
   "metadata": {},
   "source": [
    "- Détection des valeurs manquantes"
   ]
  },
  {
   "cell_type": "code",
   "execution_count": 17,
   "id": "e3656da4",
   "metadata": {},
   "outputs": [
    {
     "data": {
      "text/plain": [
       "id                         0\n",
       "popularite                 0\n",
       "budget                     0\n",
       "revenu                     0\n",
       "titre                      0\n",
       "acteur                    76\n",
       "directeur                 44\n",
       "duree                      0\n",
       "genres                    23\n",
       "compagnie_production    1030\n",
       "notes                      0\n",
       "note_moyenne               0\n",
       "annee_sortie               0\n",
       "dtype: int64"
      ]
     },
     "execution_count": 17,
     "metadata": {},
     "output_type": "execute_result"
    }
   ],
   "source": [
    "# Avons-nous des valeurs manquantes dans notre ensemble de données ?\n",
    "# Quelles sont les colonnes ayant des valeurs manquantes et combien sont elles ?\n",
    "movie_df.isna().sum()"
   ]
  },
  {
   "cell_type": "markdown",
   "id": "ebbc0a24",
   "metadata": {},
   "source": [
    "- Pourcentage de valeurs manquantes"
   ]
  },
  {
   "cell_type": "code",
   "execution_count": 18,
   "id": "42e30cb7",
   "metadata": {},
   "outputs": [
    {
     "data": {
      "text/plain": [
       "id                      0.000000\n",
       "popularite              0.000000\n",
       "budget                  0.000000\n",
       "revenu                  0.000000\n",
       "titre                   0.000000\n",
       "duree                   0.000000\n",
       "notes                   0.000000\n",
       "note_moyenne            0.000000\n",
       "annee_sortie            0.000000\n",
       "genres                  0.211689\n",
       "directeur               0.404970\n",
       "acteur                  0.699494\n",
       "compagnie_production    9.479982\n",
       "dtype: float64"
      ]
     },
     "execution_count": 18,
     "metadata": {},
     "output_type": "execute_result"
    }
   ],
   "source": [
    "# Avant de prendre toute décision les données manquantes,\n",
    "# Essayons de voir cela en pourcentage de façon croissante\n",
    "(movie_df.isna().sum()*100/movie_df.shape[0]).sort_values(ascending=True)"
   ]
  },
  {
   "cell_type": "markdown",
   "id": "c7157894",
   "metadata": {},
   "source": [
    "- Suppression de valeurs manquantes"
   ]
  },
  {
   "cell_type": "code",
   "execution_count": 19,
   "id": "faedd289",
   "metadata": {},
   "outputs": [
    {
     "name": "stdout",
     "output_type": "stream",
     "text": [
      "<class 'pandas.core.frame.DataFrame'>\n",
      "Int64Index: 9772 entries, 0 to 10865\n",
      "Data columns (total 13 columns):\n",
      " #   Column                Non-Null Count  Dtype  \n",
      "---  ------                --------------  -----  \n",
      " 0   id                    9772 non-null   int64  \n",
      " 1   popularite            9772 non-null   float64\n",
      " 2   budget                9772 non-null   int64  \n",
      " 3   revenu                9772 non-null   int64  \n",
      " 4   titre                 9772 non-null   object \n",
      " 5   acteur                9772 non-null   object \n",
      " 6   directeur             9772 non-null   object \n",
      " 7   duree                 9772 non-null   int64  \n",
      " 8   genres                9772 non-null   object \n",
      " 9   compagnie_production  9772 non-null   object \n",
      " 10  notes                 9772 non-null   int64  \n",
      " 11  note_moyenne          9772 non-null   float64\n",
      " 12  annee_sortie          9772 non-null   int64  \n",
      "dtypes: float64(2), int64(6), object(5)\n",
      "memory usage: 1.0+ MB\n"
     ]
    }
   ],
   "source": [
    "# Supprimer les valeurs manquantes\n",
    "movie_df.dropna(inplace=True)\n",
    "\n",
    "# Confirmer la suppression\n",
    "movie_df.info()"
   ]
  },
  {
   "cell_type": "code",
   "execution_count": 20,
   "id": "ecd559ae",
   "metadata": {},
   "outputs": [
    {
     "data": {
      "text/plain": [
       "13"
      ]
     },
     "execution_count": 20,
     "metadata": {},
     "output_type": "execute_result"
    }
   ],
   "source": [
    "# Combien de colonnes nous reste t-il au total ?\n",
    "movie_df.columns.value_counts().sum()"
   ]
  },
  {
   "cell_type": "code",
   "execution_count": 21,
   "id": "61e91454",
   "metadata": {},
   "outputs": [
    {
     "data": {
      "text/html": [
       "<div>\n",
       "<style scoped>\n",
       "    .dataframe tbody tr th:only-of-type {\n",
       "        vertical-align: middle;\n",
       "    }\n",
       "\n",
       "    .dataframe tbody tr th {\n",
       "        vertical-align: top;\n",
       "    }\n",
       "\n",
       "    .dataframe thead th {\n",
       "        text-align: right;\n",
       "    }\n",
       "</style>\n",
       "<table border=\"1\" class=\"dataframe\">\n",
       "  <thead>\n",
       "    <tr style=\"text-align: right;\">\n",
       "      <th></th>\n",
       "      <th>id</th>\n",
       "      <th>popularite</th>\n",
       "      <th>budget</th>\n",
       "      <th>revenu</th>\n",
       "      <th>titre</th>\n",
       "      <th>acteur</th>\n",
       "      <th>directeur</th>\n",
       "      <th>duree</th>\n",
       "      <th>genres</th>\n",
       "      <th>compagnie_production</th>\n",
       "      <th>notes</th>\n",
       "      <th>note_moyenne</th>\n",
       "      <th>annee_sortie</th>\n",
       "    </tr>\n",
       "  </thead>\n",
       "  <tbody>\n",
       "    <tr>\n",
       "      <th>0</th>\n",
       "      <td>135397</td>\n",
       "      <td>32.985763</td>\n",
       "      <td>150000000</td>\n",
       "      <td>1513528810</td>\n",
       "      <td>Jurassic World</td>\n",
       "      <td>Chris Pratt|Bryce Dallas Howard|Irrfan Khan|Vi...</td>\n",
       "      <td>Colin Trevorrow</td>\n",
       "      <td>124</td>\n",
       "      <td>Action|Adventure|Science Fiction|Thriller</td>\n",
       "      <td>Universal Studios|Amblin Entertainment|Legenda...</td>\n",
       "      <td>5562</td>\n",
       "      <td>6.5</td>\n",
       "      <td>2015</td>\n",
       "    </tr>\n",
       "    <tr>\n",
       "      <th>1</th>\n",
       "      <td>76341</td>\n",
       "      <td>28.419936</td>\n",
       "      <td>150000000</td>\n",
       "      <td>378436354</td>\n",
       "      <td>Mad Max: Fury Road</td>\n",
       "      <td>Tom Hardy|Charlize Theron|Hugh Keays-Byrne|Nic...</td>\n",
       "      <td>George Miller</td>\n",
       "      <td>120</td>\n",
       "      <td>Action|Adventure|Science Fiction|Thriller</td>\n",
       "      <td>Village Roadshow Pictures|Kennedy Miller Produ...</td>\n",
       "      <td>6185</td>\n",
       "      <td>7.1</td>\n",
       "      <td>2015</td>\n",
       "    </tr>\n",
       "    <tr>\n",
       "      <th>2</th>\n",
       "      <td>262500</td>\n",
       "      <td>13.112507</td>\n",
       "      <td>110000000</td>\n",
       "      <td>295238201</td>\n",
       "      <td>Insurgent</td>\n",
       "      <td>Shailene Woodley|Theo James|Kate Winslet|Ansel...</td>\n",
       "      <td>Robert Schwentke</td>\n",
       "      <td>119</td>\n",
       "      <td>Adventure|Science Fiction|Thriller</td>\n",
       "      <td>Summit Entertainment|Mandeville Films|Red Wago...</td>\n",
       "      <td>2480</td>\n",
       "      <td>6.3</td>\n",
       "      <td>2015</td>\n",
       "    </tr>\n",
       "    <tr>\n",
       "      <th>3</th>\n",
       "      <td>140607</td>\n",
       "      <td>11.173104</td>\n",
       "      <td>200000000</td>\n",
       "      <td>2068178225</td>\n",
       "      <td>Star Wars: The Force Awakens</td>\n",
       "      <td>Harrison Ford|Mark Hamill|Carrie Fisher|Adam D...</td>\n",
       "      <td>J.J. Abrams</td>\n",
       "      <td>136</td>\n",
       "      <td>Action|Adventure|Science Fiction|Fantasy</td>\n",
       "      <td>Lucasfilm|Truenorth Productions|Bad Robot</td>\n",
       "      <td>5292</td>\n",
       "      <td>7.5</td>\n",
       "      <td>2015</td>\n",
       "    </tr>\n",
       "    <tr>\n",
       "      <th>4</th>\n",
       "      <td>168259</td>\n",
       "      <td>9.335014</td>\n",
       "      <td>190000000</td>\n",
       "      <td>1506249360</td>\n",
       "      <td>Furious 7</td>\n",
       "      <td>Vin Diesel|Paul Walker|Jason Statham|Michelle ...</td>\n",
       "      <td>James Wan</td>\n",
       "      <td>137</td>\n",
       "      <td>Action|Crime|Thriller</td>\n",
       "      <td>Universal Pictures|Original Film|Media Rights ...</td>\n",
       "      <td>2947</td>\n",
       "      <td>7.3</td>\n",
       "      <td>2015</td>\n",
       "    </tr>\n",
       "  </tbody>\n",
       "</table>\n",
       "</div>"
      ],
      "text/plain": [
       "       id  popularite     budget      revenu                         titre  \\\n",
       "0  135397   32.985763  150000000  1513528810                Jurassic World   \n",
       "1   76341   28.419936  150000000   378436354            Mad Max: Fury Road   \n",
       "2  262500   13.112507  110000000   295238201                     Insurgent   \n",
       "3  140607   11.173104  200000000  2068178225  Star Wars: The Force Awakens   \n",
       "4  168259    9.335014  190000000  1506249360                     Furious 7   \n",
       "\n",
       "                                              acteur         directeur  duree  \\\n",
       "0  Chris Pratt|Bryce Dallas Howard|Irrfan Khan|Vi...   Colin Trevorrow    124   \n",
       "1  Tom Hardy|Charlize Theron|Hugh Keays-Byrne|Nic...     George Miller    120   \n",
       "2  Shailene Woodley|Theo James|Kate Winslet|Ansel...  Robert Schwentke    119   \n",
       "3  Harrison Ford|Mark Hamill|Carrie Fisher|Adam D...       J.J. Abrams    136   \n",
       "4  Vin Diesel|Paul Walker|Jason Statham|Michelle ...         James Wan    137   \n",
       "\n",
       "                                      genres  \\\n",
       "0  Action|Adventure|Science Fiction|Thriller   \n",
       "1  Action|Adventure|Science Fiction|Thriller   \n",
       "2         Adventure|Science Fiction|Thriller   \n",
       "3   Action|Adventure|Science Fiction|Fantasy   \n",
       "4                      Action|Crime|Thriller   \n",
       "\n",
       "                                compagnie_production  notes  note_moyenne  \\\n",
       "0  Universal Studios|Amblin Entertainment|Legenda...   5562           6.5   \n",
       "1  Village Roadshow Pictures|Kennedy Miller Produ...   6185           7.1   \n",
       "2  Summit Entertainment|Mandeville Films|Red Wago...   2480           6.3   \n",
       "3          Lucasfilm|Truenorth Productions|Bad Robot   5292           7.5   \n",
       "4  Universal Pictures|Original Film|Media Rights ...   2947           7.3   \n",
       "\n",
       "   annee_sortie  \n",
       "0          2015  \n",
       "1          2015  \n",
       "2          2015  \n",
       "3          2015  \n",
       "4          2015  "
      ]
     },
     "execution_count": 21,
     "metadata": {},
     "output_type": "execute_result"
    }
   ],
   "source": [
    "# Afficher les premières lignes de notre ensemble de données\n",
    "movie_df.head()"
   ]
  },
  {
   "cell_type": "code",
   "execution_count": 22,
   "id": "e1252c10",
   "metadata": {},
   "outputs": [
    {
     "data": {
      "text/html": [
       "<div>\n",
       "<style scoped>\n",
       "    .dataframe tbody tr th:only-of-type {\n",
       "        vertical-align: middle;\n",
       "    }\n",
       "\n",
       "    .dataframe tbody tr th {\n",
       "        vertical-align: top;\n",
       "    }\n",
       "\n",
       "    .dataframe thead th {\n",
       "        text-align: right;\n",
       "    }\n",
       "</style>\n",
       "<table border=\"1\" class=\"dataframe\">\n",
       "  <thead>\n",
       "    <tr style=\"text-align: right;\">\n",
       "      <th></th>\n",
       "      <th>id</th>\n",
       "      <th>popularite</th>\n",
       "      <th>budget</th>\n",
       "      <th>revenu</th>\n",
       "      <th>titre</th>\n",
       "      <th>acteur</th>\n",
       "      <th>directeur</th>\n",
       "      <th>duree</th>\n",
       "      <th>genres</th>\n",
       "      <th>compagnie_production</th>\n",
       "      <th>notes</th>\n",
       "      <th>note_moyenne</th>\n",
       "      <th>annee_sortie</th>\n",
       "    </tr>\n",
       "  </thead>\n",
       "  <tbody>\n",
       "    <tr>\n",
       "      <th>10861</th>\n",
       "      <td>21</td>\n",
       "      <td>0.080598</td>\n",
       "      <td>0</td>\n",
       "      <td>0</td>\n",
       "      <td>The Endless Summer</td>\n",
       "      <td>Michael Hynson|Robert August|Lord 'Tally Ho' B...</td>\n",
       "      <td>Bruce Brown</td>\n",
       "      <td>95</td>\n",
       "      <td>Documentary</td>\n",
       "      <td>Bruce Brown Films</td>\n",
       "      <td>11</td>\n",
       "      <td>7.4</td>\n",
       "      <td>1966</td>\n",
       "    </tr>\n",
       "    <tr>\n",
       "      <th>10862</th>\n",
       "      <td>20379</td>\n",
       "      <td>0.065543</td>\n",
       "      <td>0</td>\n",
       "      <td>0</td>\n",
       "      <td>Grand Prix</td>\n",
       "      <td>James Garner|Eva Marie Saint|Yves Montand|Tosh...</td>\n",
       "      <td>John Frankenheimer</td>\n",
       "      <td>176</td>\n",
       "      <td>Action|Adventure|Drama</td>\n",
       "      <td>Cherokee Productions|Joel Productions|Douglas ...</td>\n",
       "      <td>20</td>\n",
       "      <td>5.7</td>\n",
       "      <td>1966</td>\n",
       "    </tr>\n",
       "    <tr>\n",
       "      <th>10863</th>\n",
       "      <td>39768</td>\n",
       "      <td>0.065141</td>\n",
       "      <td>0</td>\n",
       "      <td>0</td>\n",
       "      <td>Beregis Avtomobilya</td>\n",
       "      <td>Innokentiy Smoktunovskiy|Oleg Efremov|Georgi Z...</td>\n",
       "      <td>Eldar Ryazanov</td>\n",
       "      <td>94</td>\n",
       "      <td>Mystery|Comedy</td>\n",
       "      <td>Mosfilm</td>\n",
       "      <td>11</td>\n",
       "      <td>6.5</td>\n",
       "      <td>1966</td>\n",
       "    </tr>\n",
       "    <tr>\n",
       "      <th>10864</th>\n",
       "      <td>21449</td>\n",
       "      <td>0.064317</td>\n",
       "      <td>0</td>\n",
       "      <td>0</td>\n",
       "      <td>What's Up, Tiger Lily?</td>\n",
       "      <td>Tatsuya Mihashi|Akiko Wakabayashi|Mie Hama|Joh...</td>\n",
       "      <td>Woody Allen</td>\n",
       "      <td>80</td>\n",
       "      <td>Action|Comedy</td>\n",
       "      <td>Benedict Pictures Corp.</td>\n",
       "      <td>22</td>\n",
       "      <td>5.4</td>\n",
       "      <td>1966</td>\n",
       "    </tr>\n",
       "    <tr>\n",
       "      <th>10865</th>\n",
       "      <td>22293</td>\n",
       "      <td>0.035919</td>\n",
       "      <td>19000</td>\n",
       "      <td>0</td>\n",
       "      <td>Manos: The Hands of Fate</td>\n",
       "      <td>Harold P. Warren|Tom Neyman|John Reynolds|Dian...</td>\n",
       "      <td>Harold P. Warren</td>\n",
       "      <td>74</td>\n",
       "      <td>Horror</td>\n",
       "      <td>Norm-Iris</td>\n",
       "      <td>15</td>\n",
       "      <td>1.5</td>\n",
       "      <td>1966</td>\n",
       "    </tr>\n",
       "  </tbody>\n",
       "</table>\n",
       "</div>"
      ],
      "text/plain": [
       "          id  popularite  budget  revenu                     titre  \\\n",
       "10861     21    0.080598       0       0        The Endless Summer   \n",
       "10862  20379    0.065543       0       0                Grand Prix   \n",
       "10863  39768    0.065141       0       0       Beregis Avtomobilya   \n",
       "10864  21449    0.064317       0       0    What's Up, Tiger Lily?   \n",
       "10865  22293    0.035919   19000       0  Manos: The Hands of Fate   \n",
       "\n",
       "                                                  acteur           directeur  \\\n",
       "10861  Michael Hynson|Robert August|Lord 'Tally Ho' B...         Bruce Brown   \n",
       "10862  James Garner|Eva Marie Saint|Yves Montand|Tosh...  John Frankenheimer   \n",
       "10863  Innokentiy Smoktunovskiy|Oleg Efremov|Georgi Z...      Eldar Ryazanov   \n",
       "10864  Tatsuya Mihashi|Akiko Wakabayashi|Mie Hama|Joh...         Woody Allen   \n",
       "10865  Harold P. Warren|Tom Neyman|John Reynolds|Dian...    Harold P. Warren   \n",
       "\n",
       "       duree                  genres  \\\n",
       "10861     95             Documentary   \n",
       "10862    176  Action|Adventure|Drama   \n",
       "10863     94          Mystery|Comedy   \n",
       "10864     80           Action|Comedy   \n",
       "10865     74                  Horror   \n",
       "\n",
       "                                    compagnie_production  notes  note_moyenne  \\\n",
       "10861                                  Bruce Brown Films     11           7.4   \n",
       "10862  Cherokee Productions|Joel Productions|Douglas ...     20           5.7   \n",
       "10863                                            Mosfilm     11           6.5   \n",
       "10864                            Benedict Pictures Corp.     22           5.4   \n",
       "10865                                          Norm-Iris     15           1.5   \n",
       "\n",
       "       annee_sortie  \n",
       "10861          1966  \n",
       "10862          1966  \n",
       "10863          1966  \n",
       "10864          1966  \n",
       "10865          1966  "
      ]
     },
     "execution_count": 22,
     "metadata": {},
     "output_type": "execute_result"
    }
   ],
   "source": [
    "# Voyons voir les 5 dernières lignes de l'ensemble de données\n",
    "movie_df.tail()"
   ]
  },
  {
   "cell_type": "code",
   "execution_count": 23,
   "id": "70f47bca",
   "metadata": {},
   "outputs": [
    {
     "data": {
      "text/html": [
       "<div>\n",
       "<style scoped>\n",
       "    .dataframe tbody tr th:only-of-type {\n",
       "        vertical-align: middle;\n",
       "    }\n",
       "\n",
       "    .dataframe tbody tr th {\n",
       "        vertical-align: top;\n",
       "    }\n",
       "\n",
       "    .dataframe thead th {\n",
       "        text-align: right;\n",
       "    }\n",
       "</style>\n",
       "<table border=\"1\" class=\"dataframe\">\n",
       "  <thead>\n",
       "    <tr style=\"text-align: right;\">\n",
       "      <th></th>\n",
       "      <th>id</th>\n",
       "      <th>popularite</th>\n",
       "      <th>budget</th>\n",
       "      <th>revenu</th>\n",
       "      <th>duree</th>\n",
       "      <th>notes</th>\n",
       "      <th>note_moyenne</th>\n",
       "      <th>annee_sortie</th>\n",
       "    </tr>\n",
       "  </thead>\n",
       "  <tbody>\n",
       "    <tr>\n",
       "      <th>count</th>\n",
       "      <td>9772.000000</td>\n",
       "      <td>9772.000000</td>\n",
       "      <td>9.772000e+03</td>\n",
       "      <td>9.772000e+03</td>\n",
       "      <td>9772.000000</td>\n",
       "      <td>9772.000000</td>\n",
       "      <td>9772.000000</td>\n",
       "      <td>9772.000000</td>\n",
       "    </tr>\n",
       "    <tr>\n",
       "      <th>mean</th>\n",
       "      <td>63189.640810</td>\n",
       "      <td>0.694721</td>\n",
       "      <td>1.617967e+07</td>\n",
       "      <td>4.423121e+07</td>\n",
       "      <td>102.926627</td>\n",
       "      <td>239.312014</td>\n",
       "      <td>5.963528</td>\n",
       "      <td>2000.878428</td>\n",
       "    </tr>\n",
       "    <tr>\n",
       "      <th>std</th>\n",
       "      <td>90718.059987</td>\n",
       "      <td>1.036931</td>\n",
       "      <td>3.221074e+07</td>\n",
       "      <td>1.225889e+08</td>\n",
       "      <td>27.877432</td>\n",
       "      <td>603.011504</td>\n",
       "      <td>0.913174</td>\n",
       "      <td>13.036794</td>\n",
       "    </tr>\n",
       "    <tr>\n",
       "      <th>min</th>\n",
       "      <td>5.000000</td>\n",
       "      <td>0.000188</td>\n",
       "      <td>0.000000e+00</td>\n",
       "      <td>0.000000e+00</td>\n",
       "      <td>0.000000</td>\n",
       "      <td>10.000000</td>\n",
       "      <td>1.500000</td>\n",
       "      <td>1960.000000</td>\n",
       "    </tr>\n",
       "    <tr>\n",
       "      <th>25%</th>\n",
       "      <td>10221.500000</td>\n",
       "      <td>0.232710</td>\n",
       "      <td>0.000000e+00</td>\n",
       "      <td>0.000000e+00</td>\n",
       "      <td>90.000000</td>\n",
       "      <td>18.000000</td>\n",
       "      <td>5.400000</td>\n",
       "      <td>1994.000000</td>\n",
       "    </tr>\n",
       "    <tr>\n",
       "      <th>50%</th>\n",
       "      <td>18677.500000</td>\n",
       "      <td>0.419762</td>\n",
       "      <td>2.000000e+05</td>\n",
       "      <td>0.000000e+00</td>\n",
       "      <td>100.000000</td>\n",
       "      <td>46.000000</td>\n",
       "      <td>6.000000</td>\n",
       "      <td>2005.000000</td>\n",
       "    </tr>\n",
       "    <tr>\n",
       "      <th>75%</th>\n",
       "      <td>70577.250000</td>\n",
       "      <td>0.776408</td>\n",
       "      <td>1.928750e+07</td>\n",
       "      <td>3.104729e+07</td>\n",
       "      <td>112.000000</td>\n",
       "      <td>173.000000</td>\n",
       "      <td>6.600000</td>\n",
       "      <td>2011.000000</td>\n",
       "    </tr>\n",
       "    <tr>\n",
       "      <th>max</th>\n",
       "      <td>417859.000000</td>\n",
       "      <td>32.985763</td>\n",
       "      <td>4.250000e+08</td>\n",
       "      <td>2.781506e+09</td>\n",
       "      <td>877.000000</td>\n",
       "      <td>9767.000000</td>\n",
       "      <td>8.700000</td>\n",
       "      <td>2015.000000</td>\n",
       "    </tr>\n",
       "  </tbody>\n",
       "</table>\n",
       "</div>"
      ],
      "text/plain": [
       "                  id   popularite        budget        revenu        duree  \\\n",
       "count    9772.000000  9772.000000  9.772000e+03  9.772000e+03  9772.000000   \n",
       "mean    63189.640810     0.694721  1.617967e+07  4.423121e+07   102.926627   \n",
       "std     90718.059987     1.036931  3.221074e+07  1.225889e+08    27.877432   \n",
       "min         5.000000     0.000188  0.000000e+00  0.000000e+00     0.000000   \n",
       "25%     10221.500000     0.232710  0.000000e+00  0.000000e+00    90.000000   \n",
       "50%     18677.500000     0.419762  2.000000e+05  0.000000e+00   100.000000   \n",
       "75%     70577.250000     0.776408  1.928750e+07  3.104729e+07   112.000000   \n",
       "max    417859.000000    32.985763  4.250000e+08  2.781506e+09   877.000000   \n",
       "\n",
       "             notes  note_moyenne  annee_sortie  \n",
       "count  9772.000000   9772.000000   9772.000000  \n",
       "mean    239.312014      5.963528   2000.878428  \n",
       "std     603.011504      0.913174     13.036794  \n",
       "min      10.000000      1.500000   1960.000000  \n",
       "25%      18.000000      5.400000   1994.000000  \n",
       "50%      46.000000      6.000000   2005.000000  \n",
       "75%     173.000000      6.600000   2011.000000  \n",
       "max    9767.000000      8.700000   2015.000000  "
      ]
     },
     "execution_count": 23,
     "metadata": {},
     "output_type": "execute_result"
    }
   ],
   "source": [
    "# Les statistiques de base de toutes nos données numériques\n",
    "movie_df.describe()"
   ]
  },
  {
   "cell_type": "markdown",
   "id": "751bceda",
   "metadata": {},
   "source": [
    "<a id=\"AED\"></a>\n",
    "## Analyse Exploratoire de Données\n",
    "\n",
    "> **Alors que nos données sont nettoyées, nous allons procéder à leur exploration en généerant quelques statistiques et en les visualisant afin de répondre aux questions que nous avons mentionnés plus haut**\n",
    ">\n",
    "> ***Vous êtes prêts ?😉 Alors, c'est `PARTIII !!!`😋😋😊***"
   ]
  },
  {
   "cell_type": "code",
   "execution_count": 24,
   "id": "391c5b77",
   "metadata": {},
   "outputs": [
    {
     "data": {
      "text/html": [
       "<div>\n",
       "<style scoped>\n",
       "    .dataframe tbody tr th:only-of-type {\n",
       "        vertical-align: middle;\n",
       "    }\n",
       "\n",
       "    .dataframe tbody tr th {\n",
       "        vertical-align: top;\n",
       "    }\n",
       "\n",
       "    .dataframe thead th {\n",
       "        text-align: right;\n",
       "    }\n",
       "</style>\n",
       "<table border=\"1\" class=\"dataframe\">\n",
       "  <thead>\n",
       "    <tr style=\"text-align: right;\">\n",
       "      <th></th>\n",
       "      <th>id</th>\n",
       "      <th>popularite</th>\n",
       "      <th>budget</th>\n",
       "      <th>revenu</th>\n",
       "      <th>titre</th>\n",
       "      <th>acteur</th>\n",
       "      <th>directeur</th>\n",
       "      <th>duree</th>\n",
       "      <th>genres</th>\n",
       "      <th>compagnie_production</th>\n",
       "      <th>notes</th>\n",
       "      <th>note_moyenne</th>\n",
       "      <th>annee_sortie</th>\n",
       "    </tr>\n",
       "  </thead>\n",
       "  <tbody>\n",
       "    <tr>\n",
       "      <th>0</th>\n",
       "      <td>135397</td>\n",
       "      <td>32.985763</td>\n",
       "      <td>150000000</td>\n",
       "      <td>1513528810</td>\n",
       "      <td>Jurassic World</td>\n",
       "      <td>Chris Pratt|Bryce Dallas Howard|Irrfan Khan|Vi...</td>\n",
       "      <td>Colin Trevorrow</td>\n",
       "      <td>124</td>\n",
       "      <td>Action|Adventure|Science Fiction|Thriller</td>\n",
       "      <td>Universal Studios|Amblin Entertainment|Legenda...</td>\n",
       "      <td>5562</td>\n",
       "      <td>6.5</td>\n",
       "      <td>2015</td>\n",
       "    </tr>\n",
       "    <tr>\n",
       "      <th>1</th>\n",
       "      <td>76341</td>\n",
       "      <td>28.419936</td>\n",
       "      <td>150000000</td>\n",
       "      <td>378436354</td>\n",
       "      <td>Mad Max: Fury Road</td>\n",
       "      <td>Tom Hardy|Charlize Theron|Hugh Keays-Byrne|Nic...</td>\n",
       "      <td>George Miller</td>\n",
       "      <td>120</td>\n",
       "      <td>Action|Adventure|Science Fiction|Thriller</td>\n",
       "      <td>Village Roadshow Pictures|Kennedy Miller Produ...</td>\n",
       "      <td>6185</td>\n",
       "      <td>7.1</td>\n",
       "      <td>2015</td>\n",
       "    </tr>\n",
       "    <tr>\n",
       "      <th>2</th>\n",
       "      <td>262500</td>\n",
       "      <td>13.112507</td>\n",
       "      <td>110000000</td>\n",
       "      <td>295238201</td>\n",
       "      <td>Insurgent</td>\n",
       "      <td>Shailene Woodley|Theo James|Kate Winslet|Ansel...</td>\n",
       "      <td>Robert Schwentke</td>\n",
       "      <td>119</td>\n",
       "      <td>Adventure|Science Fiction|Thriller</td>\n",
       "      <td>Summit Entertainment|Mandeville Films|Red Wago...</td>\n",
       "      <td>2480</td>\n",
       "      <td>6.3</td>\n",
       "      <td>2015</td>\n",
       "    </tr>\n",
       "    <tr>\n",
       "      <th>3</th>\n",
       "      <td>140607</td>\n",
       "      <td>11.173104</td>\n",
       "      <td>200000000</td>\n",
       "      <td>2068178225</td>\n",
       "      <td>Star Wars: The Force Awakens</td>\n",
       "      <td>Harrison Ford|Mark Hamill|Carrie Fisher|Adam D...</td>\n",
       "      <td>J.J. Abrams</td>\n",
       "      <td>136</td>\n",
       "      <td>Action|Adventure|Science Fiction|Fantasy</td>\n",
       "      <td>Lucasfilm|Truenorth Productions|Bad Robot</td>\n",
       "      <td>5292</td>\n",
       "      <td>7.5</td>\n",
       "      <td>2015</td>\n",
       "    </tr>\n",
       "    <tr>\n",
       "      <th>4</th>\n",
       "      <td>168259</td>\n",
       "      <td>9.335014</td>\n",
       "      <td>190000000</td>\n",
       "      <td>1506249360</td>\n",
       "      <td>Furious 7</td>\n",
       "      <td>Vin Diesel|Paul Walker|Jason Statham|Michelle ...</td>\n",
       "      <td>James Wan</td>\n",
       "      <td>137</td>\n",
       "      <td>Action|Crime|Thriller</td>\n",
       "      <td>Universal Pictures|Original Film|Media Rights ...</td>\n",
       "      <td>2947</td>\n",
       "      <td>7.3</td>\n",
       "      <td>2015</td>\n",
       "    </tr>\n",
       "  </tbody>\n",
       "</table>\n",
       "</div>"
      ],
      "text/plain": [
       "       id  popularite     budget      revenu                         titre  \\\n",
       "0  135397   32.985763  150000000  1513528810                Jurassic World   \n",
       "1   76341   28.419936  150000000   378436354            Mad Max: Fury Road   \n",
       "2  262500   13.112507  110000000   295238201                     Insurgent   \n",
       "3  140607   11.173104  200000000  2068178225  Star Wars: The Force Awakens   \n",
       "4  168259    9.335014  190000000  1506249360                     Furious 7   \n",
       "\n",
       "                                              acteur         directeur  duree  \\\n",
       "0  Chris Pratt|Bryce Dallas Howard|Irrfan Khan|Vi...   Colin Trevorrow    124   \n",
       "1  Tom Hardy|Charlize Theron|Hugh Keays-Byrne|Nic...     George Miller    120   \n",
       "2  Shailene Woodley|Theo James|Kate Winslet|Ansel...  Robert Schwentke    119   \n",
       "3  Harrison Ford|Mark Hamill|Carrie Fisher|Adam D...       J.J. Abrams    136   \n",
       "4  Vin Diesel|Paul Walker|Jason Statham|Michelle ...         James Wan    137   \n",
       "\n",
       "                                      genres  \\\n",
       "0  Action|Adventure|Science Fiction|Thriller   \n",
       "1  Action|Adventure|Science Fiction|Thriller   \n",
       "2         Adventure|Science Fiction|Thriller   \n",
       "3   Action|Adventure|Science Fiction|Fantasy   \n",
       "4                      Action|Crime|Thriller   \n",
       "\n",
       "                                compagnie_production  notes  note_moyenne  \\\n",
       "0  Universal Studios|Amblin Entertainment|Legenda...   5562           6.5   \n",
       "1  Village Roadshow Pictures|Kennedy Miller Produ...   6185           7.1   \n",
       "2  Summit Entertainment|Mandeville Films|Red Wago...   2480           6.3   \n",
       "3          Lucasfilm|Truenorth Productions|Bad Robot   5292           7.5   \n",
       "4  Universal Pictures|Original Film|Media Rights ...   2947           7.3   \n",
       "\n",
       "   annee_sortie  \n",
       "0          2015  \n",
       "1          2015  \n",
       "2          2015  \n",
       "3          2015  \n",
       "4          2015  "
      ]
     },
     "execution_count": 24,
     "metadata": {},
     "output_type": "execute_result"
    }
   ],
   "source": [
    "# Les 1eres lignes de nos données\n",
    "movie_df.head()"
   ]
  },
  {
   "cell_type": "markdown",
   "id": "ddb2acd8",
   "metadata": {},
   "source": [
    "#### Avons-nous des valeurs aberrantes dans les colonnes \"budget\" et \"revenu\"  et duree des films?"
   ]
  },
  {
   "cell_type": "markdown",
   "id": "04fdf8c4",
   "metadata": {},
   "source": [
    "- Détection de valeurs aberrantes (outliers)"
   ]
  },
  {
   "cell_type": "markdown",
   "id": "6182f31e",
   "metadata": {},
   "source": [
    "#### Approche Statistique\n",
    "- **Méthode des *`Interquartilles`***"
   ]
  },
  {
   "cell_type": "code",
   "execution_count": 25,
   "id": "d89fc767",
   "metadata": {},
   "outputs": [],
   "source": [
    "# On déinfinit la fonction qui renvoi la liste de tous les indexes des outliers\n",
    "def detect_outliers(df, ft):\n",
    "    \n",
    "    # 1er quartile\n",
    "    Q1 = df[ft].quantile(0.25)\n",
    "    # 3ème quartile\n",
    "    Q3 = df[ft].quantile(0.75)\n",
    "    \n",
    "    # Calcul de l'interquartile\n",
    "    IQR = Q3 - Q1\n",
    "    \n",
    "    # Définir les limites\n",
    "    upper_limit = Q3 + 1.5 * IQR\n",
    "    low_limit = Q1 - 1.5 * IQR\n",
    "    \n",
    "    # Liste de stockage des indexes de valeurs abérrantes\n",
    "    indexes = df.index[(df[ft] > upper_limit) | (df[ft] < low_limit)]\n",
    "    \n",
    "    # Renvoyer cette liste\n",
    "    return indexes"
   ]
  },
  {
   "cell_type": "code",
   "execution_count": 26,
   "id": "0c972a6b",
   "metadata": {},
   "outputs": [],
   "source": [
    "# Récupération de tous les indexes dans une liste\n",
    "liste_index_notes = []\n",
    "for feature in [\"notes\"]:\n",
    "    liste_index_notes.extend(detect_outliers(movie_df, feature))"
   ]
  },
  {
   "cell_type": "code",
   "execution_count": 27,
   "id": "94922370",
   "metadata": {},
   "outputs": [
    {
     "name": "stdout",
     "output_type": "stream",
     "text": [
      " Nous avons au total : 1322 outliers dans nos notes\n"
     ]
    }
   ],
   "source": [
    "# Le nombre total des valeurs aberrantes\n",
    "print(f\" Nous avons au total : {len(liste_index_notes)} outliers dans nos notes\")"
   ]
  },
  {
   "cell_type": "code",
   "execution_count": 28,
   "id": "d46ee82b",
   "metadata": {},
   "outputs": [],
   "source": [
    "# Qu'en est-il dans la colonne des revenus ?\n",
    "liste_indexe_revenu = []\n",
    "for feature in [\"revenu\"]:\n",
    "    liste_indexe_revenu.extend(detect_outliers(movie_df, feature))"
   ]
  },
  {
   "cell_type": "code",
   "execution_count": 29,
   "id": "fd1f51c4",
   "metadata": {},
   "outputs": [
    {
     "name": "stdout",
     "output_type": "stream",
     "text": [
      " Nous avons au total : 1456 outliers dans nos revenus\n"
     ]
    }
   ],
   "source": [
    "print(f\" Nous avons au total : {len(liste_indexe_revenu)} outliers dans nos revenus\")"
   ]
  },
  {
   "cell_type": "code",
   "execution_count": 30,
   "id": "6e952b98",
   "metadata": {},
   "outputs": [],
   "source": [
    "liste_index_duree = []\n",
    "for feature in [\"duree\"]:\n",
    "    liste_index_duree.extend(detect_outliers(movie_df, feature))"
   ]
  },
  {
   "cell_type": "code",
   "execution_count": 31,
   "id": "6480cd33",
   "metadata": {},
   "outputs": [
    {
     "name": "stdout",
     "output_type": "stream",
     "text": [
      " Nous avons un total de : 524 outliers dans nos durées\n"
     ]
    }
   ],
   "source": [
    "print(f\" Nous avons un total de : {len(liste_index_duree)} outliers dans nos durées\")"
   ]
  },
  {
   "cell_type": "markdown",
   "id": "b61cfb53",
   "metadata": {},
   "source": [
    "#### Approche Graphique\n",
    "- **Méthode des *`Boxplot`***"
   ]
  },
  {
   "cell_type": "code",
   "execution_count": 32,
   "id": "2423d1d0",
   "metadata": {},
   "outputs": [
    {
     "data": {
      "image/png": "[encoded data removed]",
      "text/plain": [
       "<Figure size 576x432 with 1 Axes>"
      ]
     },
     "metadata": {
      "needs_background": "light"
     },
     "output_type": "display_data"
    }
   ],
   "source": [
    "# Détection des outliers dans les budgets\n",
    "movie_df.notes.plot(kind=\"box\", figsize=(8, 6));"
   ]
  },
  {
   "cell_type": "code",
   "execution_count": 33,
   "id": "a7446659",
   "metadata": {},
   "outputs": [
    {
     "data": {
      "image/png": "[encoded data removed]",
      "text/plain": [
       "<Figure size 576x432 with 1 Axes>"
      ]
     },
     "metadata": {
      "needs_background": "light"
     },
     "output_type": "display_data"
    }
   ],
   "source": [
    "# Détection des valeurs aberrantes dans nos revenus\n",
    "movie_df.revenu.plot(kind=\"box\", figsize=(8, 6));"
   ]
  },
  {
   "cell_type": "code",
   "execution_count": 34,
   "id": "773e74f3",
   "metadata": {},
   "outputs": [
    {
     "data": {
      "image/png": "[encoded data removed]",
      "text/plain": [
       "<Figure size 576x432 with 1 Axes>"
      ]
     },
     "metadata": {
      "needs_background": "light"
     },
     "output_type": "display_data"
    }
   ],
   "source": [
    "# Valeurs aberrantes dans la durée des films\n",
    "movie_df.duree.plot(kind=\"box\", figsize=(8, 6));"
   ]
  },
  {
   "cell_type": "code",
   "execution_count": 35,
   "id": "1ce80547",
   "metadata": {},
   "outputs": [
    {
     "data": {
      "text/plain": [
       "(9772, 13)"
      ]
     },
     "execution_count": 35,
     "metadata": {},
     "output_type": "execute_result"
    }
   ],
   "source": [
    "# Taille actuelle avant suppression de valeurs aberrantes\n",
    "movie_df.shape"
   ]
  },
  {
   "cell_type": "markdown",
   "id": "cbdd8902",
   "metadata": {},
   "source": [
    "#### Suppression des valeurs aberrantes nos durées"
   ]
  },
  {
   "cell_type": "code",
   "execution_count": 36,
   "id": "c77f0076",
   "metadata": {},
   "outputs": [],
   "source": [
    "# Définir une fonction qui supprime les outliers\n",
    "def remove(df, indexes):\n",
    "    \n",
    "    # Trier la liste des indexes\n",
    "    indexes = sorted(set(indexes))\n",
    "    \n",
    "    # Suppression\n",
    "    df = df.drop(indexes)\n",
    "    \n",
    "    # Renvoyer un Data set sans outliers\n",
    "    return df"
   ]
  },
  {
   "cell_type": "code",
   "execution_count": 37,
   "id": "e5bb824b",
   "metadata": {},
   "outputs": [],
   "source": [
    "# Suppression des outliers afin de travailler avec un Data set sans outliers\n",
    "movie_cleaned = remove(movie_df, liste_index_duree)"
   ]
  },
  {
   "cell_type": "code",
   "execution_count": 38,
   "id": "cbb6afe5",
   "metadata": {},
   "outputs": [
    {
     "data": {
      "text/plain": [
       "(9248, 13)"
      ]
     },
     "execution_count": 38,
     "metadata": {},
     "output_type": "execute_result"
    }
   ],
   "source": [
    "# La taille suppresion de valeurs aberrantes dans la durée des films\n",
    "movie_cleaned.shape"
   ]
  },
  {
   "cell_type": "code",
   "execution_count": 39,
   "id": "94a924fc",
   "metadata": {},
   "outputs": [],
   "source": [
    "# Avant de continuer, faisant une copie de notre ensemble de données nettoyée\n",
    "movie_df = movie_cleaned.copy()"
   ]
  },
  {
   "cell_type": "markdown",
   "id": "4c280e72",
   "metadata": {},
   "source": [
    "#### Distribution de quelques variables"
   ]
  },
  {
   "cell_type": "code",
   "execution_count": 40,
   "id": "b60a9a3c",
   "metadata": {},
   "outputs": [
    {
     "data": {
      "image/png": "[encoded data removed]",
      "text/plain": [
       "<Figure size 864x1008 with 9 Axes>"
      ]
     },
     "metadata": {},
     "output_type": "display_data"
    }
   ],
   "source": [
    "# Commençons tout d'abord par visualiser toutes les données numériques dans un histogramme\n",
    "# Apperçu de données quantitatives\n",
    "\n",
    "# Utilisons le style de \"seaborn\"\n",
    "plt.style.use(\"seaborn\")\n",
    "movie_df.hist(figsize=(12, 14));"
   ]
  },
  {
   "cell_type": "markdown",
   "id": "d6706211",
   "metadata": {},
   "source": [
    "- Définition de la fonction traçant les histogrammes"
   ]
  },
  {
   "cell_type": "code",
   "execution_count": 79,
   "id": "48f05c84",
   "metadata": {},
   "outputs": [],
   "source": [
    "# Fonction de traçage des diagrammes en histogramme\n",
    "def trace_hist(df, ft):\n",
    "    df[ft].plot(kind=\"hist\", figsize=(8, 6))"
   ]
  },
  {
   "cell_type": "markdown",
   "id": "843103c0",
   "metadata": {},
   "source": [
    "- Appels à la fonction ***`trace_hist()`*** des histogrammes"
   ]
  },
  {
   "cell_type": "markdown",
   "id": "8a7f5913",
   "metadata": {},
   "source": [
    "- La distribution des `Notes Moyennes`"
   ]
  },
  {
   "cell_type": "code",
   "execution_count": 80,
   "id": "1cee769b",
   "metadata": {},
   "outputs": [
    {
     "data": {
      "image/png": "[encoded data removed]",
      "text/plain": [
       "<Figure size 576x432 with 1 Axes>"
      ]
     },
     "metadata": {},
     "output_type": "display_data"
    }
   ],
   "source": [
    "# Appel à la fonction sur la colonne des notes moyennes\n",
    "trace_hist(movie_df, \"note_moyenne\")\n",
    "# Titre de la figure\n",
    "plt.title(\"Notes Moyennes\", fontsize=16)\n",
    "# Etiquette sur l'axe x\n",
    "plt.xlabel(\"Note\", fontsize=12)\n",
    "# Etiquette sur l'axe y\n",
    "plt.ylabel(\"Nombre d'Apparition\", fontsize=12);"
   ]
  },
  {
   "cell_type": "markdown",
   "id": "8064e53a",
   "metadata": {},
   "source": [
    "- La distribution des `Années de Sortie` des films"
   ]
  },
  {
   "cell_type": "code",
   "execution_count": 81,
   "id": "ccdb97a2",
   "metadata": {},
   "outputs": [
    {
     "data": {
      "image/png": "[encoded data removed]",
      "text/plain": [
       "<Figure size 576x432 with 1 Axes>"
      ]
     },
     "metadata": {},
     "output_type": "display_data"
    }
   ],
   "source": [
    "# Appel à la fonction sur la colonne de l'année de sortie du film\n",
    "trace_hist(movie_df, \"annee_sortie\")\n",
    "# Titre de la figure\n",
    "plt.title(\"Distribution des Années\", fontsize=16)\n",
    "# Etiquette sur l'axe x\n",
    "plt.xlabel(\"Année\", fontsize=12)\n",
    "# Etiquette sur l'axe y\n",
    "plt.ylabel(\"Nombre d'Apparition\", fontsize=12);"
   ]
  },
  {
   "cell_type": "markdown",
   "id": "b95e0661",
   "metadata": {},
   "source": [
    "- La distribution du `Budget`"
   ]
  },
  {
   "cell_type": "code",
   "execution_count": 82,
   "id": "b890a335",
   "metadata": {},
   "outputs": [
    {
     "data": {
      "image/png": "[encoded data removed]",
      "text/plain": [
       "<Figure size 576x432 with 1 Axes>"
      ]
     },
     "metadata": {},
     "output_type": "display_data"
    }
   ],
   "source": [
    "# Appel à la fonction sur la colonne de budget\n",
    "trace_hist(movie_df, \"budget\")\n",
    "# Titre de la figure\n",
    "plt.title(\"Distribution du Budget\", fontsize=16)\n",
    "# Etiquette sur l'axe x\n",
    "plt.xlabel(\"Budget\", fontsize=12)\n",
    "# Etiquette sur l'axe y\n",
    "plt.ylabel(\"Nombre d'Apparition\", fontsize=12);"
   ]
  },
  {
   "cell_type": "markdown",
   "id": "1df0e870",
   "metadata": {},
   "source": [
    "- La distribution des `revenus`"
   ]
  },
  {
   "cell_type": "code",
   "execution_count": 83,
   "id": "b87a04e9",
   "metadata": {},
   "outputs": [
    {
     "data": {
      "image/png": "[encoded data removed]",
      "text/plain": [
       "<Figure size 576x432 with 1 Axes>"
      ]
     },
     "metadata": {},
     "output_type": "display_data"
    }
   ],
   "source": [
    "# Appel à la fonction sur la colonne des revenus\n",
    "trace_hist(movie_df, \"revenu\")\n",
    "# Titre de la figure\n",
    "plt.title(\"Distribution des Revenus\", fontsize=16)\n",
    "# Etiquette sur l'axe x\n",
    "plt.xlabel(\"Revenu\", fontsize=12)\n",
    "# Etiquette sur l'axe y\n",
    "plt.ylabel(\"Nombre d'Apparition\", fontsize=12);"
   ]
  },
  {
   "cell_type": "markdown",
   "id": "628f5f2a",
   "metadata": {},
   "source": [
    "- La distribution des `durées` des films"
   ]
  },
  {
   "cell_type": "code",
   "execution_count": 84,
   "id": "61d85b5e",
   "metadata": {},
   "outputs": [
    {
     "data": {
      "image/png": "[encoded data removed]",
      "text/plain": [
       "<Figure size 576x432 with 1 Axes>"
      ]
     },
     "metadata": {},
     "output_type": "display_data"
    }
   ],
   "source": [
    "# Appel à la fonction sur la colonne des durées des films\n",
    "trace_hist(movie_df, \"duree\")\n",
    "# Titre de la figure\n",
    "plt.title(\"Distribution des Durées\", fontsize=16)\n",
    "# Etiquette sur l'axe x\n",
    "plt.xlabel(\"Durée en Minutes\", fontsize=12)\n",
    "# Etiquette sur l'axe y\n",
    "plt.ylabel(\"Nombre d'Apparition\", fontsize=12);"
   ]
  },
  {
   "cell_type": "markdown",
   "id": "77dc5dba",
   "metadata": {},
   "source": [
    "### Différentes Corrélations de quelques variables"
   ]
  },
  {
   "cell_type": "code",
   "execution_count": 85,
   "id": "1bb28c66",
   "metadata": {},
   "outputs": [
    {
     "data": {
      "text/html": [
       "<div>\n",
       "<style scoped>\n",
       "    .dataframe tbody tr th:only-of-type {\n",
       "        vertical-align: middle;\n",
       "    }\n",
       "\n",
       "    .dataframe tbody tr th {\n",
       "        vertical-align: top;\n",
       "    }\n",
       "\n",
       "    .dataframe thead th {\n",
       "        text-align: right;\n",
       "    }\n",
       "</style>\n",
       "<table border=\"1\" class=\"dataframe\">\n",
       "  <thead>\n",
       "    <tr style=\"text-align: right;\">\n",
       "      <th></th>\n",
       "      <th>id</th>\n",
       "      <th>popularite</th>\n",
       "      <th>budget</th>\n",
       "      <th>revenu</th>\n",
       "      <th>titre</th>\n",
       "      <th>acteur</th>\n",
       "      <th>directeur</th>\n",
       "      <th>duree</th>\n",
       "      <th>genres</th>\n",
       "      <th>compagnie_production</th>\n",
       "      <th>notes</th>\n",
       "      <th>note_moyenne</th>\n",
       "      <th>annee_sortie</th>\n",
       "    </tr>\n",
       "  </thead>\n",
       "  <tbody>\n",
       "    <tr>\n",
       "      <th>0</th>\n",
       "      <td>135397</td>\n",
       "      <td>32.985763</td>\n",
       "      <td>150000000</td>\n",
       "      <td>1513528810</td>\n",
       "      <td>Jurassic World</td>\n",
       "      <td>Chris Pratt|Bryce Dallas Howard|Irrfan Khan|Vi...</td>\n",
       "      <td>Colin Trevorrow</td>\n",
       "      <td>124</td>\n",
       "      <td>Action|Adventure|Science Fiction|Thriller</td>\n",
       "      <td>Universal Studios|Amblin Entertainment|Legenda...</td>\n",
       "      <td>5562</td>\n",
       "      <td>6.5</td>\n",
       "      <td>2015</td>\n",
       "    </tr>\n",
       "    <tr>\n",
       "      <th>1</th>\n",
       "      <td>76341</td>\n",
       "      <td>28.419936</td>\n",
       "      <td>150000000</td>\n",
       "      <td>378436354</td>\n",
       "      <td>Mad Max: Fury Road</td>\n",
       "      <td>Tom Hardy|Charlize Theron|Hugh Keays-Byrne|Nic...</td>\n",
       "      <td>George Miller</td>\n",
       "      <td>120</td>\n",
       "      <td>Action|Adventure|Science Fiction|Thriller</td>\n",
       "      <td>Village Roadshow Pictures|Kennedy Miller Produ...</td>\n",
       "      <td>6185</td>\n",
       "      <td>7.1</td>\n",
       "      <td>2015</td>\n",
       "    </tr>\n",
       "    <tr>\n",
       "      <th>2</th>\n",
       "      <td>262500</td>\n",
       "      <td>13.112507</td>\n",
       "      <td>110000000</td>\n",
       "      <td>295238201</td>\n",
       "      <td>Insurgent</td>\n",
       "      <td>Shailene Woodley|Theo James|Kate Winslet|Ansel...</td>\n",
       "      <td>Robert Schwentke</td>\n",
       "      <td>119</td>\n",
       "      <td>Adventure|Science Fiction|Thriller</td>\n",
       "      <td>Summit Entertainment|Mandeville Films|Red Wago...</td>\n",
       "      <td>2480</td>\n",
       "      <td>6.3</td>\n",
       "      <td>2015</td>\n",
       "    </tr>\n",
       "    <tr>\n",
       "      <th>3</th>\n",
       "      <td>140607</td>\n",
       "      <td>11.173104</td>\n",
       "      <td>200000000</td>\n",
       "      <td>2068178225</td>\n",
       "      <td>Star Wars: The Force Awakens</td>\n",
       "      <td>Harrison Ford|Mark Hamill|Carrie Fisher|Adam D...</td>\n",
       "      <td>J.J. Abrams</td>\n",
       "      <td>136</td>\n",
       "      <td>Action|Adventure|Science Fiction|Fantasy</td>\n",
       "      <td>Lucasfilm|Truenorth Productions|Bad Robot</td>\n",
       "      <td>5292</td>\n",
       "      <td>7.5</td>\n",
       "      <td>2015</td>\n",
       "    </tr>\n",
       "    <tr>\n",
       "      <th>4</th>\n",
       "      <td>168259</td>\n",
       "      <td>9.335014</td>\n",
       "      <td>190000000</td>\n",
       "      <td>1506249360</td>\n",
       "      <td>Furious 7</td>\n",
       "      <td>Vin Diesel|Paul Walker|Jason Statham|Michelle ...</td>\n",
       "      <td>James Wan</td>\n",
       "      <td>137</td>\n",
       "      <td>Action|Crime|Thriller</td>\n",
       "      <td>Universal Pictures|Original Film|Media Rights ...</td>\n",
       "      <td>2947</td>\n",
       "      <td>7.3</td>\n",
       "      <td>2015</td>\n",
       "    </tr>\n",
       "  </tbody>\n",
       "</table>\n",
       "</div>"
      ],
      "text/plain": [
       "       id  popularite     budget      revenu                         titre  \\\n",
       "0  135397   32.985763  150000000  1513528810                Jurassic World   \n",
       "1   76341   28.419936  150000000   378436354            Mad Max: Fury Road   \n",
       "2  262500   13.112507  110000000   295238201                     Insurgent   \n",
       "3  140607   11.173104  200000000  2068178225  Star Wars: The Force Awakens   \n",
       "4  168259    9.335014  190000000  1506249360                     Furious 7   \n",
       "\n",
       "                                              acteur         directeur  duree  \\\n",
       "0  Chris Pratt|Bryce Dallas Howard|Irrfan Khan|Vi...   Colin Trevorrow    124   \n",
       "1  Tom Hardy|Charlize Theron|Hugh Keays-Byrne|Nic...     George Miller    120   \n",
       "2  Shailene Woodley|Theo James|Kate Winslet|Ansel...  Robert Schwentke    119   \n",
       "3  Harrison Ford|Mark Hamill|Carrie Fisher|Adam D...       J.J. Abrams    136   \n",
       "4  Vin Diesel|Paul Walker|Jason Statham|Michelle ...         James Wan    137   \n",
       "\n",
       "                                      genres  \\\n",
       "0  Action|Adventure|Science Fiction|Thriller   \n",
       "1  Action|Adventure|Science Fiction|Thriller   \n",
       "2         Adventure|Science Fiction|Thriller   \n",
       "3   Action|Adventure|Science Fiction|Fantasy   \n",
       "4                      Action|Crime|Thriller   \n",
       "\n",
       "                                compagnie_production  notes  note_moyenne  \\\n",
       "0  Universal Studios|Amblin Entertainment|Legenda...   5562           6.5   \n",
       "1  Village Roadshow Pictures|Kennedy Miller Produ...   6185           7.1   \n",
       "2  Summit Entertainment|Mandeville Films|Red Wago...   2480           6.3   \n",
       "3          Lucasfilm|Truenorth Productions|Bad Robot   5292           7.5   \n",
       "4  Universal Pictures|Original Film|Media Rights ...   2947           7.3   \n",
       "\n",
       "   annee_sortie  \n",
       "0          2015  \n",
       "1          2015  \n",
       "2          2015  \n",
       "3          2015  \n",
       "4          2015  "
      ]
     },
     "execution_count": 85,
     "metadata": {},
     "output_type": "execute_result"
    }
   ],
   "source": [
    "# Les 1eres lignes de notre ensemble de données\n",
    "movie_df.head()"
   ]
  },
  {
   "cell_type": "markdown",
   "id": "0da17e19",
   "metadata": {},
   "source": [
    "- **Relation entre les *`Notes`* et les différentes caractéristiques**"
   ]
  },
  {
   "cell_type": "code",
   "execution_count": 108,
   "id": "95f29709",
   "metadata": {},
   "outputs": [
    {
     "data": {
      "image/png": "[encoded data removed]",
      "text/plain": [
       "<Figure size 1008x864 with 4 Axes>"
      ]
     },
     "metadata": {},
     "output_type": "display_data"
    }
   ],
   "source": [
    "# Feuille de visualisation et les axes\n",
    "fig, ((ax1, ax2), (ax3, ax4)) = plt.subplots(2, 2, figsize=(14, 12))\n",
    "\n",
    "# Relation Note vs le Budget\n",
    "ax1.scatter(movie_df.budget, movie_df.notes)\n",
    "# Titre et etiquettes sur les deux axes (x et y)\n",
    "ax1.set(title=\"Note vs Budget\", xlabel=\"Budget\", ylabel=\"Notes\")\n",
    "# Relation Note vs  Popularité\n",
    "ax2.scatter(movie_df.popularite, movie_df.notes)\n",
    "# Titre et etiquettes sur les deux axes (x et y)\n",
    "ax2.set(title=\"Note vs Popularité\", xlabel=\"Popularité\", ylabel=\"Notes\")\n",
    "# Relation Note vs Durée\n",
    "ax3.scatter(movie_df.duree, movie_df.notes)\n",
    "# Titre et etiquettes sur les deux axes (x et y)\n",
    "ax3.set(title=\"Note vs Durée\", xlabel=\"Durée\", ylabel=\"Notes\")\n",
    "# Relation Note vs Année de Réalisation\n",
    "ax4.scatter(movie_df.annee_sortie, movie_df.notes)\n",
    "# Titre et etiquettes sur les deux axes (x et y)\n",
    "ax4.set(title=\"Note vs Année de Sortie\", xlabel=\"Année\", ylabel=\"Notes\");"
   ]
  },
  {
   "cell_type": "markdown",
   "id": "9f7cd85c",
   "metadata": {},
   "source": [
    "- **Relation entre le *`Revenu`* et les différentes caractéristiques**"
   ]
  },
  {
   "cell_type": "code",
   "execution_count": 112,
   "id": "01dd5ca3",
   "metadata": {},
   "outputs": [
    {
     "data": {
      "image/png": "[encoded data removed]",
      "text/plain": [
       "<Figure size 1008x864 with 4 Axes>"
      ]
     },
     "metadata": {},
     "output_type": "display_data"
    }
   ],
   "source": [
    "# Création de la feuille de visualisation et des axes\n",
    "fig, ((ax1, ax2), (ax3, ax4)) = plt.subplots(2, 2, figsize=(14, 12))\n",
    "\n",
    "# Visualiser Revenu vs Nombre de Votes\n",
    "ax1.scatter(movie_df.notes, movie_df.revenu)\n",
    "# Titre et etiquettes sur les deux axes (x et y)\n",
    "ax1.set(title=\"Revenu vs Notes\", xlabel=\"Notes\", ylabel=\"Revenus\")\n",
    "# Plotting Revenu vs  Budget\n",
    "ax2.scatter(movie_df.budget, movie_df.revenu)\n",
    "# Titre et etiquettes sur les deux axes (x et y)\n",
    "ax2.set(title=\"Revenu vs Budget\", xlabel=\"Budget\", ylabel=\"Revenu\")\n",
    "# Plotting Revenu vs Popularité\n",
    "ax3.scatter(movie_df.popularite, movie_df.revenu)\n",
    "# Titre et etiquettes sur les deux axes (x et y)\n",
    "ax3.set(title=\"Revenu vs Popularité\", xlabel=\"Popularité\", ylabel=\"Revenu\")\n",
    "# Plotting Revenu vs Durée\n",
    "ax4.scatter(movie_df.duree, movie_df.revenu)\n",
    "# Titre et etiquettes sur les deux axes (x et y)\n",
    "ax4.set(title=\"Revenu vs Durée\", xlabel=\"Revenu\", ylabel=\"Durée\");"
   ]
  },
  {
   "cell_type": "markdown",
   "id": "f3f7cad5",
   "metadata": {},
   "source": [
    "- **Relations entre les différentes caractéristiques**"
   ]
  },
  {
   "cell_type": "code",
   "execution_count": 113,
   "id": "f5576eba",
   "metadata": {
    "scrolled": false
   },
   "outputs": [
    {
     "data": {
      "text/html": [
       "<div>\n",
       "<style scoped>\n",
       "    .dataframe tbody tr th:only-of-type {\n",
       "        vertical-align: middle;\n",
       "    }\n",
       "\n",
       "    .dataframe tbody tr th {\n",
       "        vertical-align: top;\n",
       "    }\n",
       "\n",
       "    .dataframe thead th {\n",
       "        text-align: right;\n",
       "    }\n",
       "</style>\n",
       "<table border=\"1\" class=\"dataframe\">\n",
       "  <thead>\n",
       "    <tr style=\"text-align: right;\">\n",
       "      <th></th>\n",
       "      <th>id</th>\n",
       "      <th>popularite</th>\n",
       "      <th>budget</th>\n",
       "      <th>revenu</th>\n",
       "      <th>titre</th>\n",
       "      <th>acteur</th>\n",
       "      <th>directeur</th>\n",
       "      <th>duree</th>\n",
       "      <th>genres</th>\n",
       "      <th>compagnie_production</th>\n",
       "      <th>notes</th>\n",
       "      <th>note_moyenne</th>\n",
       "      <th>annee_sortie</th>\n",
       "    </tr>\n",
       "  </thead>\n",
       "  <tbody>\n",
       "    <tr>\n",
       "      <th>0</th>\n",
       "      <td>135397</td>\n",
       "      <td>32.985763</td>\n",
       "      <td>150000000</td>\n",
       "      <td>1513528810</td>\n",
       "      <td>Jurassic World</td>\n",
       "      <td>Chris Pratt|Bryce Dallas Howard|Irrfan Khan|Vi...</td>\n",
       "      <td>Colin Trevorrow</td>\n",
       "      <td>124</td>\n",
       "      <td>Action|Adventure|Science Fiction|Thriller</td>\n",
       "      <td>Universal Studios|Amblin Entertainment|Legenda...</td>\n",
       "      <td>5562</td>\n",
       "      <td>6.5</td>\n",
       "      <td>2015</td>\n",
       "    </tr>\n",
       "    <tr>\n",
       "      <th>1</th>\n",
       "      <td>76341</td>\n",
       "      <td>28.419936</td>\n",
       "      <td>150000000</td>\n",
       "      <td>378436354</td>\n",
       "      <td>Mad Max: Fury Road</td>\n",
       "      <td>Tom Hardy|Charlize Theron|Hugh Keays-Byrne|Nic...</td>\n",
       "      <td>George Miller</td>\n",
       "      <td>120</td>\n",
       "      <td>Action|Adventure|Science Fiction|Thriller</td>\n",
       "      <td>Village Roadshow Pictures|Kennedy Miller Produ...</td>\n",
       "      <td>6185</td>\n",
       "      <td>7.1</td>\n",
       "      <td>2015</td>\n",
       "    </tr>\n",
       "    <tr>\n",
       "      <th>2</th>\n",
       "      <td>262500</td>\n",
       "      <td>13.112507</td>\n",
       "      <td>110000000</td>\n",
       "      <td>295238201</td>\n",
       "      <td>Insurgent</td>\n",
       "      <td>Shailene Woodley|Theo James|Kate Winslet|Ansel...</td>\n",
       "      <td>Robert Schwentke</td>\n",
       "      <td>119</td>\n",
       "      <td>Adventure|Science Fiction|Thriller</td>\n",
       "      <td>Summit Entertainment|Mandeville Films|Red Wago...</td>\n",
       "      <td>2480</td>\n",
       "      <td>6.3</td>\n",
       "      <td>2015</td>\n",
       "    </tr>\n",
       "    <tr>\n",
       "      <th>3</th>\n",
       "      <td>140607</td>\n",
       "      <td>11.173104</td>\n",
       "      <td>200000000</td>\n",
       "      <td>2068178225</td>\n",
       "      <td>Star Wars: The Force Awakens</td>\n",
       "      <td>Harrison Ford|Mark Hamill|Carrie Fisher|Adam D...</td>\n",
       "      <td>J.J. Abrams</td>\n",
       "      <td>136</td>\n",
       "      <td>Action|Adventure|Science Fiction|Fantasy</td>\n",
       "      <td>Lucasfilm|Truenorth Productions|Bad Robot</td>\n",
       "      <td>5292</td>\n",
       "      <td>7.5</td>\n",
       "      <td>2015</td>\n",
       "    </tr>\n",
       "    <tr>\n",
       "      <th>4</th>\n",
       "      <td>168259</td>\n",
       "      <td>9.335014</td>\n",
       "      <td>190000000</td>\n",
       "      <td>1506249360</td>\n",
       "      <td>Furious 7</td>\n",
       "      <td>Vin Diesel|Paul Walker|Jason Statham|Michelle ...</td>\n",
       "      <td>James Wan</td>\n",
       "      <td>137</td>\n",
       "      <td>Action|Crime|Thriller</td>\n",
       "      <td>Universal Pictures|Original Film|Media Rights ...</td>\n",
       "      <td>2947</td>\n",
       "      <td>7.3</td>\n",
       "      <td>2015</td>\n",
       "    </tr>\n",
       "  </tbody>\n",
       "</table>\n",
       "</div>"
      ],
      "text/plain": [
       "       id  popularite     budget      revenu                         titre  \\\n",
       "0  135397   32.985763  150000000  1513528810                Jurassic World   \n",
       "1   76341   28.419936  150000000   378436354            Mad Max: Fury Road   \n",
       "2  262500   13.112507  110000000   295238201                     Insurgent   \n",
       "3  140607   11.173104  200000000  2068178225  Star Wars: The Force Awakens   \n",
       "4  168259    9.335014  190000000  1506249360                     Furious 7   \n",
       "\n",
       "                                              acteur         directeur  duree  \\\n",
       "0  Chris Pratt|Bryce Dallas Howard|Irrfan Khan|Vi...   Colin Trevorrow    124   \n",
       "1  Tom Hardy|Charlize Theron|Hugh Keays-Byrne|Nic...     George Miller    120   \n",
       "2  Shailene Woodley|Theo James|Kate Winslet|Ansel...  Robert Schwentke    119   \n",
       "3  Harrison Ford|Mark Hamill|Carrie Fisher|Adam D...       J.J. Abrams    136   \n",
       "4  Vin Diesel|Paul Walker|Jason Statham|Michelle ...         James Wan    137   \n",
       "\n",
       "                                      genres  \\\n",
       "0  Action|Adventure|Science Fiction|Thriller   \n",
       "1  Action|Adventure|Science Fiction|Thriller   \n",
       "2         Adventure|Science Fiction|Thriller   \n",
       "3   Action|Adventure|Science Fiction|Fantasy   \n",
       "4                      Action|Crime|Thriller   \n",
       "\n",
       "                                compagnie_production  notes  note_moyenne  \\\n",
       "0  Universal Studios|Amblin Entertainment|Legenda...   5562           6.5   \n",
       "1  Village Roadshow Pictures|Kennedy Miller Produ...   6185           7.1   \n",
       "2  Summit Entertainment|Mandeville Films|Red Wago...   2480           6.3   \n",
       "3          Lucasfilm|Truenorth Productions|Bad Robot   5292           7.5   \n",
       "4  Universal Pictures|Original Film|Media Rights ...   2947           7.3   \n",
       "\n",
       "   annee_sortie  \n",
       "0          2015  \n",
       "1          2015  \n",
       "2          2015  \n",
       "3          2015  \n",
       "4          2015  "
      ]
     },
     "execution_count": 113,
     "metadata": {},
     "output_type": "execute_result"
    }
   ],
   "source": [
    "# Avant tout, voyons à nouveau les différentes lignes de notre ensemble de données\n",
    "movie_df.head()"
   ]
  },
  {
   "cell_type": "markdown",
   "id": "62d4ddf3",
   "metadata": {},
   "source": [
    "- Fonction de description de différentes caractéristiques"
   ]
  },
  {
   "cell_type": "code",
   "execution_count": 117,
   "id": "fa5f72e5",
   "metadata": {},
   "outputs": [],
   "source": [
    "# Définition de la fontion\n",
    "def correlation(df, ft_1, ft_2):\n",
    "    df.plot(x=ft_1, y=ft_2, kind=\"scatter\", figsize=(8, 6))"
   ]
  },
  {
   "cell_type": "markdown",
   "id": "e3d1d5a3",
   "metadata": {},
   "source": [
    "- **Différents appels à la fonction** ***`correlation()`***"
   ]
  },
  {
   "cell_type": "markdown",
   "id": "56ad0dd6",
   "metadata": {},
   "source": [
    "- Corrélation entre la *`durée`* durée des films et leur *`popularité`*"
   ]
  },
  {
   "cell_type": "code",
   "execution_count": 119,
   "id": "6bb68d9d",
   "metadata": {},
   "outputs": [
    {
     "data": {
      "image/png": "[encoded data removed]",
      "text/plain": [
       "<Figure size 576x432 with 1 Axes>"
      ]
     },
     "metadata": {},
     "output_type": "display_data"
    }
   ],
   "source": [
    "# Appel à la fonction pour visualiser la relation entre la durée et la popularité du film\n",
    "correlation(movie_df, \"duree\", \"popularite\")\n",
    "# Titre de la figure\n",
    "plt.title(\"Relation Durée et Popularité Film\", fontsize=16)\n",
    "# Etiquette sur l'axe x\n",
    "plt.xlabel(\"Durée\", fontsize=12)\n",
    "# Etiquette sur l'axe y\n",
    "plt.ylabel(\"Popularité\", fontsize=12);"
   ]
  },
  {
   "cell_type": "markdown",
   "id": "dcaf5fea",
   "metadata": {},
   "source": [
    "- Corrélation entre le *`budget`* du film et sa *`popularité`*"
   ]
  },
  {
   "cell_type": "code",
   "execution_count": 120,
   "id": "1f74ef3d",
   "metadata": {},
   "outputs": [
    {
     "data": {
      "image/png": "[encoded data removed]",
      "text/plain": [
       "<Figure size 576x432 with 1 Axes>"
      ]
     },
     "metadata": {},
     "output_type": "display_data"
    }
   ],
   "source": [
    "# Appel à la fonction pour visualiser la relation entre le budget du film et sa popularité\n",
    "correlation(movie_df, \"budget\", \"popularite\")\n",
    "# Titre de la figure\n",
    "plt.title(\"Relation Budget et Popularité Film\", fontsize=16)\n",
    "# Etiquette sur l'axe x\n",
    "plt.xlabel(\"Budget\", fontsize=12)\n",
    "# Etiquette sur l'axe y\n",
    "plt.ylabel(\"Popularité\", fontsize=12);"
   ]
  },
  {
   "cell_type": "markdown",
   "id": "f991b135",
   "metadata": {},
   "source": [
    "- Corrélation entre l'*`année`* de sortie du film et son *`budget`*"
   ]
  },
  {
   "cell_type": "code",
   "execution_count": 121,
   "id": "dc196325",
   "metadata": {},
   "outputs": [
    {
     "data": {
      "image/png": "[encoded data removed]",
      "text/plain": [
       "<Figure size 576x432 with 1 Axes>"
      ]
     },
     "metadata": {},
     "output_type": "display_data"
    }
   ],
   "source": [
    "# Appel à la fonction pour visualiser la relation entre l'année de sortie et le budget du film\n",
    "correlation(movie_df, \"annee_sortie\", \"budget\")\n",
    "# Titre de la figure\n",
    "plt.title(\"Relation Année Sortie et Budget Film\", fontsize=16)\n",
    "# Etiquette sur l'axe x\n",
    "plt.xlabel(\"Année\", fontsize=12)\n",
    "# Etiquette sur l'axe y\n",
    "plt.ylabel(\"Budget\", fontsize=12);"
   ]
  },
  {
   "cell_type": "code",
   "execution_count": 122,
   "id": "c66a148d",
   "metadata": {},
   "outputs": [
    {
     "data": {
      "text/html": [
       "<div>\n",
       "<style scoped>\n",
       "    .dataframe tbody tr th:only-of-type {\n",
       "        vertical-align: middle;\n",
       "    }\n",
       "\n",
       "    .dataframe tbody tr th {\n",
       "        vertical-align: top;\n",
       "    }\n",
       "\n",
       "    .dataframe thead th {\n",
       "        text-align: right;\n",
       "    }\n",
       "</style>\n",
       "<table border=\"1\" class=\"dataframe\">\n",
       "  <thead>\n",
       "    <tr style=\"text-align: right;\">\n",
       "      <th></th>\n",
       "      <th>id</th>\n",
       "      <th>popularite</th>\n",
       "      <th>budget</th>\n",
       "      <th>revenu</th>\n",
       "      <th>titre</th>\n",
       "      <th>acteur</th>\n",
       "      <th>directeur</th>\n",
       "      <th>duree</th>\n",
       "      <th>genres</th>\n",
       "      <th>compagnie_production</th>\n",
       "      <th>notes</th>\n",
       "      <th>note_moyenne</th>\n",
       "      <th>annee_sortie</th>\n",
       "    </tr>\n",
       "  </thead>\n",
       "  <tbody>\n",
       "    <tr>\n",
       "      <th>0</th>\n",
       "      <td>135397</td>\n",
       "      <td>32.985763</td>\n",
       "      <td>150000000</td>\n",
       "      <td>1513528810</td>\n",
       "      <td>Jurassic World</td>\n",
       "      <td>Chris Pratt|Bryce Dallas Howard|Irrfan Khan|Vi...</td>\n",
       "      <td>Colin Trevorrow</td>\n",
       "      <td>124</td>\n",
       "      <td>Action|Adventure|Science Fiction|Thriller</td>\n",
       "      <td>Universal Studios|Amblin Entertainment|Legenda...</td>\n",
       "      <td>5562</td>\n",
       "      <td>6.5</td>\n",
       "      <td>2015</td>\n",
       "    </tr>\n",
       "    <tr>\n",
       "      <th>1</th>\n",
       "      <td>76341</td>\n",
       "      <td>28.419936</td>\n",
       "      <td>150000000</td>\n",
       "      <td>378436354</td>\n",
       "      <td>Mad Max: Fury Road</td>\n",
       "      <td>Tom Hardy|Charlize Theron|Hugh Keays-Byrne|Nic...</td>\n",
       "      <td>George Miller</td>\n",
       "      <td>120</td>\n",
       "      <td>Action|Adventure|Science Fiction|Thriller</td>\n",
       "      <td>Village Roadshow Pictures|Kennedy Miller Produ...</td>\n",
       "      <td>6185</td>\n",
       "      <td>7.1</td>\n",
       "      <td>2015</td>\n",
       "    </tr>\n",
       "    <tr>\n",
       "      <th>2</th>\n",
       "      <td>262500</td>\n",
       "      <td>13.112507</td>\n",
       "      <td>110000000</td>\n",
       "      <td>295238201</td>\n",
       "      <td>Insurgent</td>\n",
       "      <td>Shailene Woodley|Theo James|Kate Winslet|Ansel...</td>\n",
       "      <td>Robert Schwentke</td>\n",
       "      <td>119</td>\n",
       "      <td>Adventure|Science Fiction|Thriller</td>\n",
       "      <td>Summit Entertainment|Mandeville Films|Red Wago...</td>\n",
       "      <td>2480</td>\n",
       "      <td>6.3</td>\n",
       "      <td>2015</td>\n",
       "    </tr>\n",
       "  </tbody>\n",
       "</table>\n",
       "</div>"
      ],
      "text/plain": [
       "       id  popularite     budget      revenu               titre  \\\n",
       "0  135397   32.985763  150000000  1513528810      Jurassic World   \n",
       "1   76341   28.419936  150000000   378436354  Mad Max: Fury Road   \n",
       "2  262500   13.112507  110000000   295238201           Insurgent   \n",
       "\n",
       "                                              acteur         directeur  duree  \\\n",
       "0  Chris Pratt|Bryce Dallas Howard|Irrfan Khan|Vi...   Colin Trevorrow    124   \n",
       "1  Tom Hardy|Charlize Theron|Hugh Keays-Byrne|Nic...     George Miller    120   \n",
       "2  Shailene Woodley|Theo James|Kate Winslet|Ansel...  Robert Schwentke    119   \n",
       "\n",
       "                                      genres  \\\n",
       "0  Action|Adventure|Science Fiction|Thriller   \n",
       "1  Action|Adventure|Science Fiction|Thriller   \n",
       "2         Adventure|Science Fiction|Thriller   \n",
       "\n",
       "                                compagnie_production  notes  note_moyenne  \\\n",
       "0  Universal Studios|Amblin Entertainment|Legenda...   5562           6.5   \n",
       "1  Village Roadshow Pictures|Kennedy Miller Produ...   6185           7.1   \n",
       "2  Summit Entertainment|Mandeville Films|Red Wago...   2480           6.3   \n",
       "\n",
       "   annee_sortie  \n",
       "0          2015  \n",
       "1          2015  \n",
       "2          2015  "
      ]
     },
     "execution_count": 122,
     "metadata": {},
     "output_type": "execute_result"
    }
   ],
   "source": [
    "# Les 3 1eres lignes de nos données\n",
    "movie_df.head(3)"
   ]
  },
  {
   "cell_type": "markdown",
   "id": "890fb539",
   "metadata": {},
   "source": [
    "<a id=\"films mieux notés\"></a>\n",
    "### Les films les mieux notés"
   ]
  },
  {
   "cell_type": "code",
   "execution_count": 123,
   "id": "c2b93d8e",
   "metadata": {},
   "outputs": [
    {
     "data": {
      "text/plain": [
       "10      360\n",
       "11      334\n",
       "12      299\n",
       "13      273\n",
       "14      229\n",
       "       ... \n",
       "392       1\n",
       "2100      1\n",
       "794       1\n",
       "786       1\n",
       "2031      1\n",
       "Name: notes, Length: 1220, dtype: int64"
      ]
     },
     "execution_count": 123,
     "metadata": {},
     "output_type": "execute_result"
    }
   ],
   "source": [
    "movie_df.notes.value_counts()"
   ]
  },
  {
   "cell_type": "markdown",
   "id": "e227af71",
   "metadata": {},
   "source": [
    "- **Fonction pour tracer les digrammes en** ***`bâton`***"
   ]
  },
  {
   "cell_type": "code",
   "execution_count": 130,
   "id": "518f8968",
   "metadata": {},
   "outputs": [],
   "source": [
    "# Définition de la fonction\n",
    "def trace_bar(df, ft):\n",
    "    # df = DataFrame et ft = Feature\n",
    "    df[ft].value_counts().plot(kind=\"bar\", figsize=(10, 8))"
   ]
  },
  {
   "cell_type": "code",
   "execution_count": 127,
   "id": "1b4bf4fa",
   "metadata": {},
   "outputs": [],
   "source": [
    "'''\n",
    "Pour répondre à cette question, nous allons considérer un film comme bien noté\n",
    "si la note qu'il a obtenu est largement superieure à la médiane\n",
    "'''\n",
    "# Ensemble de données ayant les notes superieur à la médiane\n",
    "notes_df = movie_df.query('notes >= notes.median()')"
   ]
  },
  {
   "cell_type": "markdown",
   "id": "2847d6fc",
   "metadata": {},
   "source": [
    "- ***Faire appel à la fonction pour tracer les diagrammes en*** *`bâtons`*"
   ]
  },
  {
   "cell_type": "code",
   "execution_count": 131,
   "id": "391a4788",
   "metadata": {},
   "outputs": [
    {
     "data": {
      "image/png": "[encoded data removed]",
      "text/plain": [
       "<Figure size 720x576 with 1 Axes>"
      ]
     },
     "metadata": {},
     "output_type": "display_data"
    }
   ],
   "source": [
    "# Appel à la fonction\n",
    "trace_bar(notes_df, \"note_moyenne\")\n",
    "# Titre de la figure\n",
    "plt.title(\"Films les Mieux Notés\", fontsize=16)\n",
    "# Etiquette sur l'axe x\n",
    "plt.xlabel(\"Note Moyenne\", fontsize=12)\n",
    "# Etiquette sur l'axe y\n",
    "plt.ylabel(\"Nombre de fois\");"
   ]
  },
  {
   "cell_type": "markdown",
   "id": "7ec7d180",
   "metadata": {},
   "source": [
    "<a id=\"films mieux notés de 2015\"></a>\n",
    "### Les films les mieux notés de 2015 "
   ]
  },
  {
   "cell_type": "code",
   "execution_count": 132,
   "id": "c69e0a1a",
   "metadata": {},
   "outputs": [
    {
     "data": {
      "text/plain": [
       "array([2015, 2014, 1977, 2009, 2010, 1999, 2001, 2008, 2011, 2002, 1994,\n",
       "       2012, 2003, 1997, 2013, 1985, 2005, 2006, 2004, 1972, 1980, 2007,\n",
       "       1979, 1984, 1983, 1995, 1992, 1981, 1996, 2000, 1982, 1998, 1989,\n",
       "       1991, 1988, 1987, 1968, 1974, 1975, 1962, 1964, 1971, 1990, 1961,\n",
       "       1960, 1976, 1993, 1967, 1963, 1986, 1973, 1970, 1965, 1969, 1978,\n",
       "       1966], dtype=int64)"
      ]
     },
     "execution_count": 132,
     "metadata": {},
     "output_type": "execute_result"
    }
   ],
   "source": [
    "# Années de réalisation des films\n",
    "movie_df.annee_sortie.unique()"
   ]
  },
  {
   "cell_type": "code",
   "execution_count": 133,
   "id": "860df5b9",
   "metadata": {},
   "outputs": [],
   "source": [
    "# Capturer la dernière année de sortie de film qui est en l'occurence 2015\n",
    "annee_2015 = movie_df.query('annee_sortie == 2015')"
   ]
  },
  {
   "cell_type": "code",
   "execution_count": 134,
   "id": "eff73598",
   "metadata": {},
   "outputs": [
    {
     "data": {
      "image/png": "[encoded data removed]",
      "text/plain": [
       "<Figure size 720x576 with 1 Axes>"
      ]
     },
     "metadata": {},
     "output_type": "display_data"
    }
   ],
   "source": [
    "# Appel à la fonction\n",
    "trace_bar(annee_2015, \"note_moyenne\")\n",
    "# Titre de la figure\n",
    "plt.title(\"Films les Mieux Notés de 2015\", fontsize=16)\n",
    "# Etiquette sur l'axe x\n",
    "plt.xlabel(\"Note Moyenne\", fontsize=12)\n",
    "# Etiquette sur l'axe y\n",
    "plt.ylabel(\"Nombre de fois\");"
   ]
  },
  {
   "cell_type": "markdown",
   "id": "0c2d82d1",
   "metadata": {},
   "source": [
    "<a id=\"films avec plus de revenus\"></a>\n",
    "### Le nombre de films qui ont plus de revenus"
   ]
  },
  {
   "cell_type": "code",
   "execution_count": 135,
   "id": "81424091",
   "metadata": {},
   "outputs": [],
   "source": [
    "# Ajoutons une colonne de revenu moyen\n",
    "# Cette colonne servira pour savoir les films ayant plus de revenu\n",
    "movie_df[\"revenu_moyen\"] = movie_df.revenu.mean()"
   ]
  },
  {
   "cell_type": "code",
   "execution_count": 136,
   "id": "349612ea",
   "metadata": {},
   "outputs": [
    {
     "data": {
      "text/html": [
       "<div>\n",
       "<style scoped>\n",
       "    .dataframe tbody tr th:only-of-type {\n",
       "        vertical-align: middle;\n",
       "    }\n",
       "\n",
       "    .dataframe tbody tr th {\n",
       "        vertical-align: top;\n",
       "    }\n",
       "\n",
       "    .dataframe thead th {\n",
       "        text-align: right;\n",
       "    }\n",
       "</style>\n",
       "<table border=\"1\" class=\"dataframe\">\n",
       "  <thead>\n",
       "    <tr style=\"text-align: right;\">\n",
       "      <th></th>\n",
       "      <th>id</th>\n",
       "      <th>popularite</th>\n",
       "      <th>budget</th>\n",
       "      <th>revenu</th>\n",
       "      <th>titre</th>\n",
       "      <th>acteur</th>\n",
       "      <th>directeur</th>\n",
       "      <th>duree</th>\n",
       "      <th>genres</th>\n",
       "      <th>compagnie_production</th>\n",
       "      <th>notes</th>\n",
       "      <th>note_moyenne</th>\n",
       "      <th>annee_sortie</th>\n",
       "      <th>revenu_moyen</th>\n",
       "    </tr>\n",
       "  </thead>\n",
       "  <tbody>\n",
       "    <tr>\n",
       "      <th>0</th>\n",
       "      <td>135397</td>\n",
       "      <td>32.985763</td>\n",
       "      <td>150000000</td>\n",
       "      <td>1513528810</td>\n",
       "      <td>Jurassic World</td>\n",
       "      <td>Chris Pratt|Bryce Dallas Howard|Irrfan Khan|Vi...</td>\n",
       "      <td>Colin Trevorrow</td>\n",
       "      <td>124</td>\n",
       "      <td>Action|Adventure|Science Fiction|Thriller</td>\n",
       "      <td>Universal Studios|Amblin Entertainment|Legenda...</td>\n",
       "      <td>5562</td>\n",
       "      <td>6.5</td>\n",
       "      <td>2015</td>\n",
       "      <td>4.186474e+07</td>\n",
       "    </tr>\n",
       "    <tr>\n",
       "      <th>1</th>\n",
       "      <td>76341</td>\n",
       "      <td>28.419936</td>\n",
       "      <td>150000000</td>\n",
       "      <td>378436354</td>\n",
       "      <td>Mad Max: Fury Road</td>\n",
       "      <td>Tom Hardy|Charlize Theron|Hugh Keays-Byrne|Nic...</td>\n",
       "      <td>George Miller</td>\n",
       "      <td>120</td>\n",
       "      <td>Action|Adventure|Science Fiction|Thriller</td>\n",
       "      <td>Village Roadshow Pictures|Kennedy Miller Produ...</td>\n",
       "      <td>6185</td>\n",
       "      <td>7.1</td>\n",
       "      <td>2015</td>\n",
       "      <td>4.186474e+07</td>\n",
       "    </tr>\n",
       "    <tr>\n",
       "      <th>2</th>\n",
       "      <td>262500</td>\n",
       "      <td>13.112507</td>\n",
       "      <td>110000000</td>\n",
       "      <td>295238201</td>\n",
       "      <td>Insurgent</td>\n",
       "      <td>Shailene Woodley|Theo James|Kate Winslet|Ansel...</td>\n",
       "      <td>Robert Schwentke</td>\n",
       "      <td>119</td>\n",
       "      <td>Adventure|Science Fiction|Thriller</td>\n",
       "      <td>Summit Entertainment|Mandeville Films|Red Wago...</td>\n",
       "      <td>2480</td>\n",
       "      <td>6.3</td>\n",
       "      <td>2015</td>\n",
       "      <td>4.186474e+07</td>\n",
       "    </tr>\n",
       "  </tbody>\n",
       "</table>\n",
       "</div>"
      ],
      "text/plain": [
       "       id  popularite     budget      revenu               titre  \\\n",
       "0  135397   32.985763  150000000  1513528810      Jurassic World   \n",
       "1   76341   28.419936  150000000   378436354  Mad Max: Fury Road   \n",
       "2  262500   13.112507  110000000   295238201           Insurgent   \n",
       "\n",
       "                                              acteur         directeur  duree  \\\n",
       "0  Chris Pratt|Bryce Dallas Howard|Irrfan Khan|Vi...   Colin Trevorrow    124   \n",
       "1  Tom Hardy|Charlize Theron|Hugh Keays-Byrne|Nic...     George Miller    120   \n",
       "2  Shailene Woodley|Theo James|Kate Winslet|Ansel...  Robert Schwentke    119   \n",
       "\n",
       "                                      genres  \\\n",
       "0  Action|Adventure|Science Fiction|Thriller   \n",
       "1  Action|Adventure|Science Fiction|Thriller   \n",
       "2         Adventure|Science Fiction|Thriller   \n",
       "\n",
       "                                compagnie_production  notes  note_moyenne  \\\n",
       "0  Universal Studios|Amblin Entertainment|Legenda...   5562           6.5   \n",
       "1  Village Roadshow Pictures|Kennedy Miller Produ...   6185           7.1   \n",
       "2  Summit Entertainment|Mandeville Films|Red Wago...   2480           6.3   \n",
       "\n",
       "   annee_sortie  revenu_moyen  \n",
       "0          2015  4.186474e+07  \n",
       "1          2015  4.186474e+07  \n",
       "2          2015  4.186474e+07  "
      ]
     },
     "execution_count": 136,
     "metadata": {},
     "output_type": "execute_result"
    }
   ],
   "source": [
    "# Vérification des modifications apportées\n",
    "\n",
    "# Affichons les 3 premières lignes des données\n",
    "movie_df.head(3)"
   ]
  },
  {
   "cell_type": "code",
   "execution_count": 137,
   "id": "7e32ad57",
   "metadata": {},
   "outputs": [],
   "source": [
    "# Création de l'ensemble de données avec des revenu largement superieur à la médiane\n",
    "revenu_df = movie_df.query('revenu >= revenu_moyen')"
   ]
  },
  {
   "cell_type": "code",
   "execution_count": 138,
   "id": "810f5850",
   "metadata": {},
   "outputs": [
    {
     "data": {
      "text/plain": [
       "3       2068178225\n",
       "4361    1519557910\n",
       "0       1513528810\n",
       "4       1506249360\n",
       "14      1405035767\n",
       "           ...    \n",
       "8615      42000000\n",
       "2900      42000000\n",
       "5251      41954997\n",
       "3131      41939392\n",
       "9368      41895491\n",
       "Name: revenu, Length: 1965, dtype: int64"
      ]
     },
     "execution_count": 138,
     "metadata": {},
     "output_type": "execute_result"
    }
   ],
   "source": [
    "# Voyons les \n",
    "revenu_df.revenu.sort_values(ascending=False)"
   ]
  },
  {
   "cell_type": "code",
   "execution_count": 139,
   "id": "b5b902d0",
   "metadata": {},
   "outputs": [
    {
     "name": "stdout",
     "output_type": "stream",
     "text": [
      "Le revenu le plus élevé est de 2068178225 $\n"
     ]
    }
   ],
   "source": [
    "# Confirmons la valeur maximale des revenus\n",
    "print(f\"Le revenu le plus élevé est de {movie_df.revenu.max()} $\")"
   ]
  },
  {
   "cell_type": "code",
   "execution_count": 140,
   "id": "894d61b0",
   "metadata": {},
   "outputs": [
    {
     "name": "stdout",
     "output_type": "stream",
     "text": [
      " Nous avons 1965 films avec un revenu superieur à la moyenne\n"
     ]
    }
   ],
   "source": [
    "# Combien de films ont un revenu supeieur à la moyenne ?\n",
    "print(f\" Nous avons {revenu_df.revenu.value_counts().sum()} films avec un revenu superieur à la moyenne\")"
   ]
  },
  {
   "cell_type": "markdown",
   "id": "e106b3e0",
   "metadata": {},
   "source": [
    "<a id=\"évolution popularité film\"></a>\n",
    "### L'évoulution de la populrité des films chaque année"
   ]
  },
  {
   "cell_type": "code",
   "execution_count": 141,
   "id": "7cc1ed49",
   "metadata": {},
   "outputs": [
    {
     "data": {
      "text/plain": [
       "0.292536    2\n",
       "0.214587    2\n",
       "0.430191    2\n",
       "0.078482    2\n",
       "0.340804    2\n",
       "           ..\n",
       "0.092150    1\n",
       "1.405720    1\n",
       "0.264922    1\n",
       "0.097126    1\n",
       "0.195415    1\n",
       "Name: popularite, Length: 9214, dtype: int64"
      ]
     },
     "execution_count": 141,
     "metadata": {},
     "output_type": "execute_result"
    }
   ],
   "source": [
    "# Les popularités les plus apparues\n",
    "movie_df.popularite.value_counts().sort_values(ascending=False)"
   ]
  },
  {
   "cell_type": "code",
   "execution_count": 143,
   "id": "d6fca549",
   "metadata": {},
   "outputs": [
    {
     "data": {
      "image/png": "[encoded data removed]",
      "text/plain": [
       "<Figure size 720x576 with 1 Axes>"
      ]
     },
     "metadata": {},
     "output_type": "display_data"
    }
   ],
   "source": [
    "# Définir une feuille de visualisation\n",
    "plt.figure(figsize=(10, 8))\n",
    "# Tracer la courbe d'évolution de la popularité de chaque année\n",
    "plt.plot(movie_df.groupby(\"annee_sortie\")[\"popularite\"].count())\n",
    "# Titre de la figure\n",
    "plt.title(\"Evolution Popularité Film\", fontsize=16)\n",
    "# Etiquette sur l'axe x\n",
    "plt.xlabel(\"Année\", fontsize=12)\n",
    "# Etiquette sur l'axe y\n",
    "plt.ylabel(\"Seuil d'évolution\", fontsize=12);"
   ]
  },
  {
   "cell_type": "markdown",
   "id": "477c8ff4",
   "metadata": {},
   "source": [
    "<a id=\"films court métrages\"></a>\n",
    "### Les films court métrages"
   ]
  },
  {
   "cell_type": "code",
   "execution_count": 144,
   "id": "600737d5",
   "metadata": {},
   "outputs": [
    {
     "data": {
      "text/html": [
       "<div>\n",
       "<style scoped>\n",
       "    .dataframe tbody tr th:only-of-type {\n",
       "        vertical-align: middle;\n",
       "    }\n",
       "\n",
       "    .dataframe tbody tr th {\n",
       "        vertical-align: top;\n",
       "    }\n",
       "\n",
       "    .dataframe thead th {\n",
       "        text-align: right;\n",
       "    }\n",
       "</style>\n",
       "<table border=\"1\" class=\"dataframe\">\n",
       "  <thead>\n",
       "    <tr style=\"text-align: right;\">\n",
       "      <th></th>\n",
       "      <th>id</th>\n",
       "      <th>popularite</th>\n",
       "      <th>budget</th>\n",
       "      <th>revenu</th>\n",
       "      <th>titre</th>\n",
       "      <th>acteur</th>\n",
       "      <th>directeur</th>\n",
       "      <th>duree</th>\n",
       "      <th>genres</th>\n",
       "      <th>compagnie_production</th>\n",
       "      <th>notes</th>\n",
       "      <th>note_moyenne</th>\n",
       "      <th>annee_sortie</th>\n",
       "      <th>revenu_moyen</th>\n",
       "    </tr>\n",
       "  </thead>\n",
       "  <tbody>\n",
       "    <tr>\n",
       "      <th>0</th>\n",
       "      <td>135397</td>\n",
       "      <td>32.985763</td>\n",
       "      <td>150000000</td>\n",
       "      <td>1513528810</td>\n",
       "      <td>Jurassic World</td>\n",
       "      <td>Chris Pratt|Bryce Dallas Howard|Irrfan Khan|Vi...</td>\n",
       "      <td>Colin Trevorrow</td>\n",
       "      <td>124</td>\n",
       "      <td>Action|Adventure|Science Fiction|Thriller</td>\n",
       "      <td>Universal Studios|Amblin Entertainment|Legenda...</td>\n",
       "      <td>5562</td>\n",
       "      <td>6.5</td>\n",
       "      <td>2015</td>\n",
       "      <td>4.186474e+07</td>\n",
       "    </tr>\n",
       "    <tr>\n",
       "      <th>1</th>\n",
       "      <td>76341</td>\n",
       "      <td>28.419936</td>\n",
       "      <td>150000000</td>\n",
       "      <td>378436354</td>\n",
       "      <td>Mad Max: Fury Road</td>\n",
       "      <td>Tom Hardy|Charlize Theron|Hugh Keays-Byrne|Nic...</td>\n",
       "      <td>George Miller</td>\n",
       "      <td>120</td>\n",
       "      <td>Action|Adventure|Science Fiction|Thriller</td>\n",
       "      <td>Village Roadshow Pictures|Kennedy Miller Produ...</td>\n",
       "      <td>6185</td>\n",
       "      <td>7.1</td>\n",
       "      <td>2015</td>\n",
       "      <td>4.186474e+07</td>\n",
       "    </tr>\n",
       "    <tr>\n",
       "      <th>2</th>\n",
       "      <td>262500</td>\n",
       "      <td>13.112507</td>\n",
       "      <td>110000000</td>\n",
       "      <td>295238201</td>\n",
       "      <td>Insurgent</td>\n",
       "      <td>Shailene Woodley|Theo James|Kate Winslet|Ansel...</td>\n",
       "      <td>Robert Schwentke</td>\n",
       "      <td>119</td>\n",
       "      <td>Adventure|Science Fiction|Thriller</td>\n",
       "      <td>Summit Entertainment|Mandeville Films|Red Wago...</td>\n",
       "      <td>2480</td>\n",
       "      <td>6.3</td>\n",
       "      <td>2015</td>\n",
       "      <td>4.186474e+07</td>\n",
       "    </tr>\n",
       "  </tbody>\n",
       "</table>\n",
       "</div>"
      ],
      "text/plain": [
       "       id  popularite     budget      revenu               titre  \\\n",
       "0  135397   32.985763  150000000  1513528810      Jurassic World   \n",
       "1   76341   28.419936  150000000   378436354  Mad Max: Fury Road   \n",
       "2  262500   13.112507  110000000   295238201           Insurgent   \n",
       "\n",
       "                                              acteur         directeur  duree  \\\n",
       "0  Chris Pratt|Bryce Dallas Howard|Irrfan Khan|Vi...   Colin Trevorrow    124   \n",
       "1  Tom Hardy|Charlize Theron|Hugh Keays-Byrne|Nic...     George Miller    120   \n",
       "2  Shailene Woodley|Theo James|Kate Winslet|Ansel...  Robert Schwentke    119   \n",
       "\n",
       "                                      genres  \\\n",
       "0  Action|Adventure|Science Fiction|Thriller   \n",
       "1  Action|Adventure|Science Fiction|Thriller   \n",
       "2         Adventure|Science Fiction|Thriller   \n",
       "\n",
       "                                compagnie_production  notes  note_moyenne  \\\n",
       "0  Universal Studios|Amblin Entertainment|Legenda...   5562           6.5   \n",
       "1  Village Roadshow Pictures|Kennedy Miller Produ...   6185           7.1   \n",
       "2  Summit Entertainment|Mandeville Films|Red Wago...   2480           6.3   \n",
       "\n",
       "   annee_sortie  revenu_moyen  \n",
       "0          2015  4.186474e+07  \n",
       "1          2015  4.186474e+07  \n",
       "2          2015  4.186474e+07  "
      ]
     },
     "execution_count": 144,
     "metadata": {},
     "output_type": "execute_result"
    }
   ],
   "source": [
    "movie_df.head(3)"
   ]
  },
  {
   "cell_type": "code",
   "execution_count": 145,
   "id": "b182b7eb",
   "metadata": {},
   "outputs": [],
   "source": [
    "# Dataframe des films de moins de 60 min considérées comme courts métrages\n",
    "court_df = movie_df.query('duree < 60')"
   ]
  },
  {
   "cell_type": "code",
   "execution_count": 146,
   "id": "18fa22fa",
   "metadata": {},
   "outputs": [
    {
     "data": {
      "text/plain": [
       "array([57, 59, 58], dtype=int64)"
      ]
     },
     "execution_count": 146,
     "metadata": {},
     "output_type": "execute_result"
    }
   ],
   "source": [
    "# Le temps considérés comme étant court métrage\n",
    "court_df.duree.unique()"
   ]
  },
  {
   "cell_type": "markdown",
   "id": "3d51fe20",
   "metadata": {},
   "source": [
    "- Faire appel à la fonction *`trace_bar()`* pour visualiser les films court métrages"
   ]
  },
  {
   "cell_type": "code",
   "execution_count": 148,
   "id": "2b20eb88",
   "metadata": {},
   "outputs": [
    {
     "data": {
      "image/png": "[encoded data removed]",
      "text/plain": [
       "<Figure size 720x576 with 1 Axes>"
      ]
     },
     "metadata": {},
     "output_type": "display_data"
    }
   ],
   "source": [
    "# Appel à la fonction\n",
    "trace_bar(court_df, \"duree\")\n",
    "# Titre de la figure\n",
    "plt.title(\"Films Court Métrages\", fontsize=16)\n",
    "# Etiquette sur l'axe x\n",
    "plt.xlabel(\"Durée en Minutes\", fontsize=12)\n",
    "# Etiquette sur l'axe y\n",
    "plt.ylabel(\"Nombre de fois\", fontsize=12);"
   ]
  },
  {
   "cell_type": "markdown",
   "id": "5f7cb49d",
   "metadata": {},
   "source": [
    "<a id=\"année sortie court métrages\"></a>\n",
    "### Les années ayant réalisées les films de plus court métrages"
   ]
  },
  {
   "cell_type": "code",
   "execution_count": 149,
   "id": "446f0594",
   "metadata": {},
   "outputs": [
    {
     "name": "stdout",
     "output_type": "stream",
     "text": [
      "Le plus court métrage est de : 57 minutes\n"
     ]
    }
   ],
   "source": [
    "# Le plus court métrage\n",
    "print(f\"Le plus court métrage est de : {court_df.duree.min()} minutes\")"
   ]
  },
  {
   "cell_type": "code",
   "execution_count": 150,
   "id": "dcba44db",
   "metadata": {},
   "outputs": [
    {
     "data": {
      "image/png": "[encoded data removed]",
      "text/plain": [
       "<Figure size 720x576 with 1 Axes>"
      ]
     },
     "metadata": {},
     "output_type": "display_data"
    }
   ],
   "source": [
    "# Feuille de visualisation\n",
    "plt.figure(figsize=(10, 8))\n",
    "# Tracer la courbe évolutive des années selon le métrage\n",
    "plt.plot(court_df.groupby(\"annee_sortie\")[\"duree\"].min())\n",
    "# Titre de la figure\n",
    "plt.title(\"Année ayant Réalisée le Plus Court Métrage\", fontsize=16)\n",
    "# Etiquette sur l'axe x\n",
    "plt.xlabel(\"Anneé\", fontsize=12)\n",
    "# Etiquette sur l'axe y\n",
    "plt.ylabel(\"Durée en Min\", fontsize=12);"
   ]
  },
  {
   "cell_type": "markdown",
   "id": "f5326abe",
   "metadata": {},
   "source": [
    "<a id=\"films long métrages\"></a>\n",
    "### Les films de long métrages"
   ]
  },
  {
   "cell_type": "code",
   "execution_count": 151,
   "id": "37cb30e9",
   "metadata": {},
   "outputs": [],
   "source": [
    "# Les films de plus de 60 min considérées comme long métrages\n",
    "long_df = movie_df.query('duree >= 60')"
   ]
  },
  {
   "cell_type": "code",
   "execution_count": 152,
   "id": "e2adba0f",
   "metadata": {},
   "outputs": [
    {
     "data": {
      "text/plain": [
       "array([124, 120, 119, 136, 137, 125, 141,  91,  94, 108, 105, 109, 115,\n",
       "       112, 130, 123, 114, 131, 128, 132, 103, 117, 101,  93, 111, 106,\n",
       "       122, 116,  97,  92, 118, 121, 100, 133,  96, 102,  95,  88,  99,\n",
       "        89, 107, 104,  98, 113,  85,  90,  84,  82,  87,  83,  67,  86,\n",
       "        74, 134, 110,  72,  80, 127,  76, 135,  75,  81, 129,  78, 138,\n",
       "        62,  77,  70,  73,  79,  60,  65,  64, 144, 145, 139, 142,  71,\n",
       "        66, 143, 140,  61,  69, 126,  63,  68], dtype=int64)"
      ]
     },
     "execution_count": 152,
     "metadata": {},
     "output_type": "execute_result"
    }
   ],
   "source": [
    "# Le temps considéré comme étant long métrage\n",
    "long_df.duree.unique()"
   ]
  },
  {
   "cell_type": "code",
   "execution_count": 153,
   "id": "1cd76c5c",
   "metadata": {},
   "outputs": [
    {
     "data": {
      "image/png": "[encoded data removed]",
      "text/plain": [
       "<Figure size 720x576 with 1 Axes>"
      ]
     },
     "metadata": {},
     "output_type": "display_data"
    }
   ],
   "source": [
    "# Feuille de travail\n",
    "plt.figure( figsize=(10, 8))\n",
    "# Tracer le digramme en bâtons\n",
    "sns.histplot(long_df.duree.value_counts(),kde=True, cbar=True)\n",
    "# Le titre de la figure\n",
    "plt.title(\"Films Long Métrages\", fontsize=16);"
   ]
  },
  {
   "cell_type": "markdown",
   "id": "3c2c7245",
   "metadata": {},
   "source": [
    "<a id=\"année sortie long métrages\"></a>\n",
    "### Les années ayant réalisées des films de plus long métrages"
   ]
  },
  {
   "cell_type": "code",
   "execution_count": 154,
   "id": "2439509c",
   "metadata": {},
   "outputs": [
    {
     "name": "stdout",
     "output_type": "stream",
     "text": [
      "Le plus long métrage est de : 145\n"
     ]
    }
   ],
   "source": [
    "# Quel est le plus long métrage ?\n",
    "print(f\"Le plus long métrage est de : {long_df.duree.max()}\")"
   ]
  },
  {
   "cell_type": "code",
   "execution_count": 155,
   "id": "60c5c3b5",
   "metadata": {},
   "outputs": [
    {
     "data": {
      "image/png": "[encoded data removed]",
      "text/plain": [
       "<Figure size 720x576 with 1 Axes>"
      ]
     },
     "metadata": {},
     "output_type": "display_data"
    }
   ],
   "source": [
    "# Feuille de travail\n",
    "plt.figure(figsize=(10, 8))\n",
    "# Tracer l'évolution du long métrage chaque année\n",
    "plt.plot(long_df.groupby(\"annee_sortie\")[\"duree\"].min())\n",
    "# Le titre de la figure\n",
    "plt.title(\"Année Réalisant le plus Long Métrage\", fontsize=16)\n",
    "# Etique sur l'axe x\n",
    "plt.xlabel(\"Anneé\", fontsize=12)\n",
    "# Etique sur l'axe y\n",
    "plt.ylabel(\"Durée en Minutes\", fontsize=12);"
   ]
  },
  {
   "cell_type": "markdown",
   "id": "98fea418",
   "metadata": {},
   "source": [
    ">**Liste des sites Web, livres, forums, article de blog, dépôts Github : *`S.O`***"
   ]
  },
  {
   "cell_type": "markdown",
   "id": "f86dc769",
   "metadata": {},
   "source": [
    "<a id=\"AED\"></a>\n",
    "## Conclusions\n",
    "\n",
    "> **Dans cette dernière partie, nous allons essayer de tirer conclusions nécessaires en se bassant sur l'exploration des différentes colonnes et aussi sur les quelques questions répondues ci-dessus**\n",
    "\n",
    "> ***D'après les pourcentages des valeurs manquantes on peut observer le pourcentage le plus élevé est à peine de `9%` se trouvant dans la colonne `compagnie_production`. Ce pourcentage n'est pas assez élevé par rapport à notre ensemble de données et donc nous avons procédé à l'élimination de ces valeurs manquantes en effet, cela n'a pas un impacte assez conséquente sur les données restantes.***\n",
    "\n",
    ">***On observer un grand nombre de valeurs aberrantes et celles qui ont beaucoup marquées notre attention étaient celles de la durée des films, il fallu nettoyer ces valeurs aberrantes dites `outliers` dans la colonne `duree` et d'ailleurs, c'est ce qui a permi de répondre aux questions sur les films de court et long métrages. L'approche statistique pour détecter ces `outliers` est d'une très grande importance car, elle nous a permi de les supprimer par la suite***\n",
    "\n",
    ">***On note une corrélation positive entre la popularité et les notes des films et aussi entre le  budgets et les revenus des films***\n",
    "\n",
    ">***On note que les films les mieux notés en général ont une note moyenne de `6.5` alors que ceux de l'année `2015` spéficiquement ont une note moyenne de `5.9`***\n",
    "\n",
    ">***On observe que le revenu le plus élevé des films est de `2068178225`***\n",
    "\n",
    ">***D'après la courbe de popularité des films, on peut observer un engouement drastique que le public a pour les films de `1960` à `2015`***\n",
    "\n",
    ">***Le film le plus court métrage a une durée de `57 minutes` et on observe également que ce métrage a été réalisé pour la première fois en consécutivement en `2004 - 2005 - 2006 - 2007` puis a été encore réalisé en `2011` et par la suite en `2014` et `2015`***\n",
    "\n",
    ">***Nous pouvons également voir que le film le plus long métrage dure `145 minutes` et a été réalisé approximativement en `1979`***\n",
    "\n",
    ">***`Limitations`***\n",
    ">>Au cours de cette analyse, nous avons constaté que les valeurs aberrantes sont un véritable obstacle pour le reste de l'analyse c'est le cas par exemple de la durée des films, en effet, il est difficile de savoir les films de plus court ou long métrages sans pour autant éliminer ces valeurs aberrantes ***`(outliers)`***. \n",
    "Et en ce qui concerne les deux autres colonnes `revenu` et `budget` dans lesquelles nous avons aussi identifier une grande quantité de valeurs aberrantes, qui, d'ailleurs, contribuent à la mauvaise visualisation graphique de celles-ci `(variables)`."
   ]
  },
  {
   "cell_type": "code",
   "execution_count": null,
   "id": "1f87f745",
   "metadata": {},
   "outputs": [],
   "source": []
  }
 ],
 "metadata": {
  "kernelspec": {
   "display_name": "Python 3 (ipykernel)",
   "language": "python",
   "name": "python3"
  },
  "language_info": {
   "codemirror_mode": {
    "name": "ipython",
    "version": 3
   },
   "file_extension": ".py",
   "mimetype": "text/x-python",
   "name": "python",
   "nbconvert_exporter": "python",
   "pygments_lexer": "ipython3",
   "version": "3.8.12"
  }
 },
 "nbformat": 4,
 "nbformat_minor": 5
}
